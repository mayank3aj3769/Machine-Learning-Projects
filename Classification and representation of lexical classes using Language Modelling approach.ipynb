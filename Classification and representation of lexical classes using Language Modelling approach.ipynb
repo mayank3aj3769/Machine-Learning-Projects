{
 "cells": [
  {
   "cell_type": "code",
   "execution_count": 1,
   "id": "749c8661-300e-49a6-87be-320fb25b94f3",
   "metadata": {},
   "outputs": [],
   "source": [
    "import torch\n",
    "import torch.nn as nn\n",
    "from transformers import BertModel, BertTokenizer\n",
    "import tqdm\n",
    "import numpy as np\n",
    "import torch.nn.functional as F"
   ]
  },
  {
   "cell_type": "code",
   "execution_count": 2,
   "id": "a4c17c45-e7bc-4ae2-beea-02b8048a96e7",
   "metadata": {},
   "outputs": [
    {
     "name": "stdout",
     "output_type": "stream",
     "text": [
      "Using device: cuda\n"
     ]
    }
   ],
   "source": [
    "device = torch.device(\"cuda\" if torch.cuda.is_available() else \"cpu\")\n",
    "print(f\"Using device: {device}\")"
   ]
  },
  {
   "cell_type": "code",
   "execution_count": 3,
   "id": "158aba5c-79a2-45a8-9eca-bd1c847ef1f6",
   "metadata": {},
   "outputs": [
    {
     "data": {
      "application/vnd.jupyter.widget-view+json": {
       "model_id": "ce07ff1ef928402dbe29d64023598801",
       "version_major": 2,
       "version_minor": 0
      },
      "text/plain": [
       "Downloading readme:   0%|          | 0.00/9.40k [00:00<?, ?B/s]"
      ]
     },
     "metadata": {},
     "output_type": "display_data"
    },
    {
     "data": {
      "application/vnd.jupyter.widget-view+json": {
       "model_id": "3882b28e16fd44ab846dd2079e48b6fb",
       "version_major": 2,
       "version_minor": 0
      },
      "text/plain": [
       "Downloading data files:   0%|          | 0/1 [00:00<?, ?it/s]"
      ]
     },
     "metadata": {},
     "output_type": "display_data"
    },
    {
     "data": {
      "application/vnd.jupyter.widget-view+json": {
       "model_id": "5a36472f20e34366a5da6755ed512c02",
       "version_major": 2,
       "version_minor": 0
      },
      "text/plain": [
       "Downloading data:   0%|          | 0.00/24.8M [00:00<?, ?B/s]"
      ]
     },
     "metadata": {},
     "output_type": "display_data"
    },
    {
     "data": {
      "application/vnd.jupyter.widget-view+json": {
       "model_id": "b0c12c8755f349e19c94e6cad77eeb7f",
       "version_major": 2,
       "version_minor": 0
      },
      "text/plain": [
       "Extracting data files:   0%|          | 0/1 [00:00<?, ?it/s]"
      ]
     },
     "metadata": {},
     "output_type": "display_data"
    },
    {
     "data": {
      "application/vnd.jupyter.widget-view+json": {
       "model_id": "96c75eaa3fae4e78b0005bb8eced7e01",
       "version_major": 2,
       "version_minor": 0
      },
      "text/plain": [
       "Generating train split:   0%|          | 0/211225 [00:00<?, ? examples/s]"
      ]
     },
     "metadata": {},
     "output_type": "display_data"
    }
   ],
   "source": [
    "from datasets import load_dataset\n",
    "dataset = load_dataset(\"go_emotions\", \"raw\")"
   ]
  },
  {
   "cell_type": "code",
   "execution_count": 4,
   "id": "d3b66318-b2c9-4ea5-a71d-b4a64b2b758a",
   "metadata": {},
   "outputs": [],
   "source": [
    "sentences=dataset['train']['text']"
   ]
  },
  {
   "cell_type": "code",
   "execution_count": 5,
   "id": "007971ad-ba57-477c-9d38-0f479fc03efb",
   "metadata": {},
   "outputs": [
    {
     "data": {
      "text/plain": [
       "211225"
      ]
     },
     "execution_count": 5,
     "metadata": {},
     "output_type": "execute_result"
    }
   ],
   "source": [
    "len(sentences)"
   ]
  },
  {
   "cell_type": "code",
   "execution_count": 6,
   "id": "a9f9bd31-b3ca-48a2-8096-51a323810201",
   "metadata": {},
   "outputs": [],
   "source": [
    "from collections import Counter\n",
    "words = [word for sentence in sentences for word in sentence.split()]\n",
    "word_counts = Counter(words)\n",
    "vocabulary = {word: i for i, word in enumerate(word_counts.keys(), start=1)}  # start=1 for reserving 0 for padding\n",
    "vocabulary['<PAD>'] = 0\n",
    "\n",
    "# Function to convert sentences to sequences of indices\n",
    "def sentence_to_seq(sentence, vocab):\n",
    "    return [vocab[word] for word in sentence.split() ]\n",
    "    "
   ]
  },
  {
   "cell_type": "code",
   "execution_count": 7,
   "id": "030329d7-d327-4fb2-b8b1-940c89c53451",
   "metadata": {},
   "outputs": [],
   "source": [
    "idx_to_word={i: word for i, word in enumerate(word_counts.keys(), start=1)}"
   ]
  },
  {
   "cell_type": "code",
   "execution_count": 8,
   "id": "826fb470-e1b3-4328-be38-96354104ba16",
   "metadata": {},
   "outputs": [],
   "source": [
    "#sequences = [sentence_to_seq(sentence, vocabulary) for sentence in sentences]\n",
    "bert_model = BertModel.from_pretrained('bert-base-uncased')\n",
    "tokenizer = BertTokenizer.from_pretrained('bert-base-uncased')"
   ]
  },
  {
   "cell_type": "code",
   "execution_count": 9,
   "id": "d322724f-f0a8-408c-b677-27e2f04030f8",
   "metadata": {},
   "outputs": [],
   "source": [
    "from transformers import BertModel, BertTokenizer\n",
    "\n",
    "class Attention(nn.Module):\n",
    "    def __init__(self, hidden_size):\n",
    "        super(Attention, self).__init__()\n",
    "        self.hidden_size = hidden_size\n",
    "        self.attn = nn.Linear(self.hidden_size * 2, hidden_size)\n",
    "        self.v = nn.Parameter(torch.rand(hidden_size))\n",
    "        stdv = 1. / (self.v.size(0) ** 0.5)\n",
    "        self.v.data.normal_(mean=0, std=stdv)\n",
    "\n",
    "    def forward(self, hidden, encoder_outputs):\n",
    "        # Add a sequence length dimension to hidden\n",
    "        hidden = hidden.unsqueeze(1)  # Shape: [batch_size, 1, hidden_size]\n",
    "\n",
    "        # Expand hidden tensor to the time dimension of encoder_outputs\n",
    "        hidden = hidden.expand_as(encoder_outputs)  # Shape: [batch_size, seq_len, hidden_size]\n",
    "\n",
    "        # Calculate attention energies\n",
    "        attn_energies = self.score(hidden, encoder_outputs)  # Now dimensions should match for concatenation\n",
    "        return F.softmax(attn_energies, dim=1).unsqueeze(1)\n",
    "\n",
    "    def score(self, hidden, encoder_outputs):\n",
    "        \n",
    "        energy = torch.tanh(self.attn(torch.cat([hidden, encoder_outputs], 2)))  # [B*T*2H]->[B*T*H]\n",
    "        energy = energy.transpose(1, 2)  # [B*H*T]\n",
    "        v = self.v.repeat(encoder_outputs.size(0), 1).unsqueeze(1)  # [B*1*H]\n",
    "        energy = torch.bmm(v, energy)  # [B*1*T]\n",
    "        return energy.squeeze(1)  # [B*T]"
   ]
  },
  {
   "cell_type": "code",
   "execution_count": 10,
   "id": "29ffd43c-d354-446a-86c6-c6efd346a1c0",
   "metadata": {},
   "outputs": [],
   "source": [
    "class SRN(nn.Module):\n",
    "    def __init__(self, hidden_size, bert_model_name, num_layers=2, dropout_rate=0.1):\n",
    "        super(SRN, self).__init__()\n",
    "        self.hidden_size = hidden_size\n",
    "        self.num_layers = num_layers\n",
    "\n",
    "        bert_hidden_size = BertModel.from_pretrained(bert_model_name).config.hidden_size\n",
    "        self.bert = BertModel.from_pretrained(bert_model_name)\n",
    "        self.embedding_projection = nn.Linear(bert_hidden_size, hidden_size)\n",
    "        self.lstm = nn.LSTM(hidden_size, hidden_size, num_layers=num_layers, batch_first=True, dropout=dropout_rate)\n",
    "        self.attention = Attention(hidden_size)\n",
    "        self.dropout = nn.Dropout(dropout_rate)\n",
    "        self.fc = nn.Linear(hidden_size, self.bert.config.vocab_size)\n",
    "\n",
    "    def forward(self, input_ids, attention_mask):\n",
    "        with torch.no_grad():\n",
    "            bert_output = self.bert(input_ids=input_ids, attention_mask=attention_mask)\n",
    "        embeddings = self.embedding_projection(bert_output.last_hidden_state)\n",
    "\n",
    "        lstm_output, (hidden, _) = self.lstm(embeddings)\n",
    "        lstm_output = self.dropout(lstm_output)\n",
    "\n",
    "        attn_weights = self.attention(hidden[-1], lstm_output)\n",
    "        context = attn_weights.bmm(lstm_output)\n",
    "\n",
    "        outputs = self.fc(context.squeeze(1))\n",
    "        return outputs"
   ]
  },
  {
   "cell_type": "code",
   "execution_count": 11,
   "id": "1f48404b-f522-41f6-af68-6e24613cca2a",
   "metadata": {},
   "outputs": [],
   "source": [
    "def create_mini_batches(sentences, tokenizer, batch_size):\n",
    "    input_ids_batches = []\n",
    "    attention_mask_batches = []\n",
    "\n",
    "    for i in range(0, len(sentences), batch_size):\n",
    "        batch_sentences = sentences[i:i + batch_size]\n",
    "        encoding = tokenizer(batch_sentences, return_tensors='pt', padding=True, truncation=True, max_length=33)\n",
    "\n",
    "        input_ids_batches.append(encoding['input_ids'])\n",
    "        attention_mask_batches.append(encoding['attention_mask'])\n",
    "\n",
    "    return input_ids_batches, attention_mask_batches"
   ]
  },
  {
   "cell_type": "code",
   "execution_count": 9,
   "id": "a40fdc6d-c338-45a0-a8d4-291446a1e4cd",
   "metadata": {},
   "outputs": [],
   "source": [
    "def training_loop(model, optimizer, criterion, epochs, input_ids_batches, attention_mask_batches, device):\n",
    "    model.train()\n",
    "    for epoch in range(epochs):\n",
    "        total_loss = 0\n",
    "\n",
    "        for batch_idx in tqdm.tqdm(range(len(input_ids_batches))):\n",
    "            input_ids = input_ids_batches[batch_idx].to(device)\n",
    "            attention_mask = attention_mask_batches[batch_idx].to(device)\n",
    "\n",
    "            # Forward pass\n",
    "            outputs = model(input_ids, attention_mask)\n",
    "            # Now outputs shape is [batch_size, vocab_size]\n",
    "\n",
    "            # Adjust targets to match the output shape\n",
    "            targets = input_ids[:, 1].contiguous()  # Taking the next token in the sequence as the target\n",
    "\n",
    "            # Compute loss\n",
    "            optimizer.zero_grad()\n",
    "            loss = criterion(outputs, targets)\n",
    "            loss.backward()\n",
    "            torch.nn.utils.clip_grad_norm_(model.parameters(), 1.0)\n",
    "            optimizer.step()\n",
    "\n",
    "            if torch.isnan(loss):\n",
    "                print(f\"NaN loss detected at batch_idx {batch_idx}\")\n",
    "                continue\n",
    "\n",
    "            total_loss += loss.item()\n",
    "\n",
    "            if batch_idx % 2000 == 0:\n",
    "                print(f\"Loss at batch_idx {batch_idx}: {loss.item()}\")\n",
    "\n",
    "        avg_loss = total_loss / len(input_ids_batches)\n",
    "        print(f\"Epoch {epoch + 1}/{epochs}, Loss: {avg_loss}\")\n"
   ]
  },
  {
   "cell_type": "code",
   "execution_count": 10,
   "id": "886c7881-ed36-4ec8-a8e9-0d1ad27344f1",
   "metadata": {},
   "outputs": [],
   "source": [
    "tokenizer = BertTokenizer.from_pretrained('bert-base-uncased')\n",
    "batch_size=32\n",
    "input_ids_batches,attention_mask_batches=create_mini_batches(sentences,tokenizer,batch_size)"
   ]
  },
  {
   "cell_type": "code",
   "execution_count": 106,
   "id": "5bb96ac0-ebba-4932-bd90-5b6201d5de79",
   "metadata": {},
   "outputs": [
    {
     "data": {
      "text/plain": [
       "6601"
      ]
     },
     "execution_count": 106,
     "metadata": {},
     "output_type": "execute_result"
    }
   ],
   "source": [
    "len(input_ids_batches)"
   ]
  },
  {
   "cell_type": "code",
   "execution_count": 12,
   "id": "1ab1d601-7004-4249-ae83-b930a924d334",
   "metadata": {},
   "outputs": [
    {
     "data": {
      "text/plain": [
       "tensor([[1, 1, 1,  ..., 0, 0, 0],\n",
       "        [1, 1, 1,  ..., 0, 0, 0],\n",
       "        [1, 1, 1,  ..., 0, 0, 0],\n",
       "        ...,\n",
       "        [1, 1, 1,  ..., 0, 0, 0],\n",
       "        [1, 1, 1,  ..., 0, 0, 0],\n",
       "        [1, 1, 1,  ..., 0, 0, 0]])"
      ]
     },
     "execution_count": 12,
     "metadata": {},
     "output_type": "execute_result"
    }
   ],
   "source": [
    "attention_mask_batches[2]"
   ]
  },
  {
   "cell_type": "code",
   "execution_count": 14,
   "id": "7ce0a4dd-5aca-4b02-be7d-8f2889919b22",
   "metadata": {},
   "outputs": [],
   "source": [
    "hidden_size=256\n",
    "bert_model_name='bert-base-uncased'\n",
    "num_layers=4\n",
    "nepochs=20\n",
    "model = SRN(hidden_size, bert_model_name, num_layers).to(device)\n",
    "optimizer = torch.optim.AdamW(model.parameters(), lr=1e-4, weight_decay=0.004)\n",
    "criterion = nn.CrossEntropyLoss()"
   ]
  },
  {
   "cell_type": "code",
   "execution_count": 15,
   "id": "43a22a09-99dd-4420-a722-1ecf4f4656af",
   "metadata": {},
   "outputs": [
    {
     "name": "stderr",
     "output_type": "stream",
     "text": [
      "  0%|                                                                                 | 2/6601 [00:01<54:48,  2.01it/s]"
     ]
    },
    {
     "name": "stdout",
     "output_type": "stream",
     "text": [
      "Loss at batch_idx 0: 10.332074165344238\n"
     ]
    },
    {
     "name": "stderr",
     "output_type": "stream",
     "text": [
      " 30%|███████████████████████▋                                                      | 2002/6601 [05:17<12:04,  6.34it/s]"
     ]
    },
    {
     "name": "stdout",
     "output_type": "stream",
     "text": [
      "Loss at batch_idx 2000: 4.7654900550842285\n"
     ]
    },
    {
     "name": "stderr",
     "output_type": "stream",
     "text": [
      " 61%|███████████████████████████████████████████████▎                              | 4002/6601 [10:34<06:53,  6.28it/s]"
     ]
    },
    {
     "name": "stdout",
     "output_type": "stream",
     "text": [
      "Loss at batch_idx 4000: 3.110229015350342\n"
     ]
    },
    {
     "name": "stderr",
     "output_type": "stream",
     "text": [
      " 91%|██████████████████████████████████████████████████████████████████████▉       | 6002/6601 [15:52<01:34,  6.31it/s]"
     ]
    },
    {
     "name": "stdout",
     "output_type": "stream",
     "text": [
      "Loss at batch_idx 6000: 2.4932961463928223\n"
     ]
    },
    {
     "name": "stderr",
     "output_type": "stream",
     "text": [
      "100%|██████████████████████████████████████████████████████████████████████████████| 6601/6601 [17:28<00:00,  6.30it/s]\n"
     ]
    },
    {
     "name": "stdout",
     "output_type": "stream",
     "text": [
      "Epoch 1/20, Loss: 3.898966383453644\n"
     ]
    },
    {
     "name": "stderr",
     "output_type": "stream",
     "text": [
      "  0%|                                                                                 | 1/6601 [00:00<17:25,  6.31it/s]"
     ]
    },
    {
     "name": "stdout",
     "output_type": "stream",
     "text": [
      "Loss at batch_idx 0: 2.6177327632904053\n"
     ]
    },
    {
     "name": "stderr",
     "output_type": "stream",
     "text": [
      " 30%|███████████████████████▋                                                      | 2002/6601 [05:18<12:09,  6.30it/s]"
     ]
    },
    {
     "name": "stdout",
     "output_type": "stream",
     "text": [
      "Loss at batch_idx 2000: 2.73327898979187\n"
     ]
    },
    {
     "name": "stderr",
     "output_type": "stream",
     "text": [
      " 61%|███████████████████████████████████████████████▎                              | 4002/6601 [10:36<06:59,  6.19it/s]"
     ]
    },
    {
     "name": "stdout",
     "output_type": "stream",
     "text": [
      "Loss at batch_idx 4000: 1.6100795269012451\n"
     ]
    },
    {
     "name": "stderr",
     "output_type": "stream",
     "text": [
      " 91%|██████████████████████████████████████████████████████████████████████▉       | 6002/6601 [15:55<01:35,  6.26it/s]"
     ]
    },
    {
     "name": "stdout",
     "output_type": "stream",
     "text": [
      "Loss at batch_idx 6000: 1.052095651626587\n"
     ]
    },
    {
     "name": "stderr",
     "output_type": "stream",
     "text": [
      "100%|██████████████████████████████████████████████████████████████████████████████| 6601/6601 [17:30<00:00,  6.28it/s]\n"
     ]
    },
    {
     "name": "stdout",
     "output_type": "stream",
     "text": [
      "Epoch 2/20, Loss: 2.152272825755056\n"
     ]
    },
    {
     "name": "stderr",
     "output_type": "stream",
     "text": [
      "  0%|                                                                                 | 1/6601 [00:00<17:12,  6.39it/s]"
     ]
    },
    {
     "name": "stdout",
     "output_type": "stream",
     "text": [
      "Loss at batch_idx 0: 1.4857221841812134\n"
     ]
    },
    {
     "name": "stderr",
     "output_type": "stream",
     "text": [
      " 30%|███████████████████████▋                                                      | 2002/6601 [05:17<12:15,  6.25it/s]"
     ]
    },
    {
     "name": "stdout",
     "output_type": "stream",
     "text": [
      "Loss at batch_idx 2000: 1.8015369176864624\n"
     ]
    },
    {
     "name": "stderr",
     "output_type": "stream",
     "text": [
      " 61%|███████████████████████████████████████████████▎                              | 4002/6601 [10:35<07:00,  6.19it/s]"
     ]
    },
    {
     "name": "stdout",
     "output_type": "stream",
     "text": [
      "Loss at batch_idx 4000: 1.236369013786316\n"
     ]
    },
    {
     "name": "stderr",
     "output_type": "stream",
     "text": [
      " 91%|██████████████████████████████████████████████████████████████████████▉       | 6002/6601 [15:53<01:35,  6.28it/s]"
     ]
    },
    {
     "name": "stdout",
     "output_type": "stream",
     "text": [
      "Loss at batch_idx 6000: 0.583820641040802\n"
     ]
    },
    {
     "name": "stderr",
     "output_type": "stream",
     "text": [
      "100%|██████████████████████████████████████████████████████████████████████████████| 6601/6601 [17:28<00:00,  6.30it/s]\n"
     ]
    },
    {
     "name": "stdout",
     "output_type": "stream",
     "text": [
      "Epoch 3/20, Loss: 1.4077623849927954\n"
     ]
    },
    {
     "name": "stderr",
     "output_type": "stream",
     "text": [
      "  0%|                                                                                 | 1/6601 [00:00<18:11,  6.05it/s]"
     ]
    },
    {
     "name": "stdout",
     "output_type": "stream",
     "text": [
      "Loss at batch_idx 0: 1.0468053817749023\n"
     ]
    },
    {
     "name": "stderr",
     "output_type": "stream",
     "text": [
      " 30%|███████████████████████▋                                                      | 2002/6601 [05:18<12:20,  6.21it/s]"
     ]
    },
    {
     "name": "stdout",
     "output_type": "stream",
     "text": [
      "Loss at batch_idx 2000: 1.257873296737671\n"
     ]
    },
    {
     "name": "stderr",
     "output_type": "stream",
     "text": [
      " 61%|███████████████████████████████████████████████▎                              | 4002/6601 [10:36<07:00,  6.18it/s]"
     ]
    },
    {
     "name": "stdout",
     "output_type": "stream",
     "text": [
      "Loss at batch_idx 4000: 0.9519779086112976\n"
     ]
    },
    {
     "name": "stderr",
     "output_type": "stream",
     "text": [
      " 91%|██████████████████████████████████████████████████████████████████████▉       | 6002/6601 [15:54<01:35,  6.26it/s]"
     ]
    },
    {
     "name": "stdout",
     "output_type": "stream",
     "text": [
      "Loss at batch_idx 6000: 0.25374168157577515\n"
     ]
    },
    {
     "name": "stderr",
     "output_type": "stream",
     "text": [
      "100%|██████████████████████████████████████████████████████████████████████████████| 6601/6601 [17:30<00:00,  6.29it/s]\n"
     ]
    },
    {
     "name": "stdout",
     "output_type": "stream",
     "text": [
      "Epoch 4/20, Loss: 1.0567339185280777\n"
     ]
    },
    {
     "name": "stderr",
     "output_type": "stream",
     "text": [
      "  0%|                                                                                 | 1/6601 [00:00<18:10,  6.05it/s]"
     ]
    },
    {
     "name": "stdout",
     "output_type": "stream",
     "text": [
      "Loss at batch_idx 0: 0.7272656559944153\n"
     ]
    },
    {
     "name": "stderr",
     "output_type": "stream",
     "text": [
      " 30%|███████████████████████▋                                                      | 2002/6601 [05:20<12:39,  6.06it/s]"
     ]
    },
    {
     "name": "stdout",
     "output_type": "stream",
     "text": [
      "Loss at batch_idx 2000: 1.048647403717041\n"
     ]
    },
    {
     "name": "stderr",
     "output_type": "stream",
     "text": [
      " 61%|███████████████████████████████████████████████▎                              | 4001/6601 [10:48<06:51,  6.31it/s]"
     ]
    },
    {
     "name": "stdout",
     "output_type": "stream",
     "text": [
      "Loss at batch_idx 4000: 0.7755488753318787\n"
     ]
    },
    {
     "name": "stderr",
     "output_type": "stream",
     "text": [
      " 91%|██████████████████████████████████████████████████████████████████████▉       | 6002/6601 [16:09<01:37,  6.16it/s]"
     ]
    },
    {
     "name": "stdout",
     "output_type": "stream",
     "text": [
      "Loss at batch_idx 6000: 0.24459300935268402\n"
     ]
    },
    {
     "name": "stderr",
     "output_type": "stream",
     "text": [
      "100%|██████████████████████████████████████████████████████████████████████████████| 6601/6601 [17:44<00:00,  6.20it/s]\n"
     ]
    },
    {
     "name": "stdout",
     "output_type": "stream",
     "text": [
      "Epoch 5/20, Loss: 0.8511581539329203\n"
     ]
    },
    {
     "name": "stderr",
     "output_type": "stream",
     "text": [
      "  0%|                                                                                 | 1/6601 [00:00<17:01,  6.46it/s]"
     ]
    },
    {
     "name": "stdout",
     "output_type": "stream",
     "text": [
      "Loss at batch_idx 0: 0.46663543581962585\n"
     ]
    },
    {
     "name": "stderr",
     "output_type": "stream",
     "text": [
      " 30%|███████████████████████▋                                                      | 2002/6601 [05:21<12:05,  6.34it/s]"
     ]
    },
    {
     "name": "stdout",
     "output_type": "stream",
     "text": [
      "Loss at batch_idx 2000: 0.8272526264190674\n"
     ]
    },
    {
     "name": "stderr",
     "output_type": "stream",
     "text": [
      " 61%|███████████████████████████████████████████████▎                              | 4002/6601 [10:42<07:01,  6.17it/s]"
     ]
    },
    {
     "name": "stdout",
     "output_type": "stream",
     "text": [
      "Loss at batch_idx 4000: 0.5393096208572388\n"
     ]
    },
    {
     "name": "stderr",
     "output_type": "stream",
     "text": [
      " 91%|██████████████████████████████████████████████████████████████████████▉       | 6002/6601 [16:03<01:39,  6.03it/s]"
     ]
    },
    {
     "name": "stdout",
     "output_type": "stream",
     "text": [
      "Loss at batch_idx 6000: 0.11089075356721878\n"
     ]
    },
    {
     "name": "stderr",
     "output_type": "stream",
     "text": [
      "100%|██████████████████████████████████████████████████████████████████████████████| 6601/6601 [17:43<00:00,  6.21it/s]\n"
     ]
    },
    {
     "name": "stdout",
     "output_type": "stream",
     "text": [
      "Epoch 6/20, Loss: 0.7127020253505758\n"
     ]
    },
    {
     "name": "stderr",
     "output_type": "stream",
     "text": [
      "  0%|                                                                                 | 1/6601 [00:00<18:24,  5.97it/s]"
     ]
    },
    {
     "name": "stdout",
     "output_type": "stream",
     "text": [
      "Loss at batch_idx 0: 0.5062111020088196\n"
     ]
    },
    {
     "name": "stderr",
     "output_type": "stream",
     "text": [
      " 30%|███████████████████████▋                                                      | 2002/6601 [05:35<12:51,  5.96it/s]"
     ]
    },
    {
     "name": "stdout",
     "output_type": "stream",
     "text": [
      "Loss at batch_idx 2000: 0.58927983045578\n"
     ]
    },
    {
     "name": "stderr",
     "output_type": "stream",
     "text": [
      " 61%|███████████████████████████████████████████████▎                              | 4002/6601 [10:58<06:53,  6.29it/s]"
     ]
    },
    {
     "name": "stdout",
     "output_type": "stream",
     "text": [
      "Loss at batch_idx 4000: 0.466520756483078\n"
     ]
    },
    {
     "name": "stderr",
     "output_type": "stream",
     "text": [
      " 91%|██████████████████████████████████████████████████████████████████████▉       | 6002/6601 [16:18<01:34,  6.33it/s]"
     ]
    },
    {
     "name": "stdout",
     "output_type": "stream",
     "text": [
      "Loss at batch_idx 6000: 0.11027316749095917\n"
     ]
    },
    {
     "name": "stderr",
     "output_type": "stream",
     "text": [
      "100%|██████████████████████████████████████████████████████████████████████████████| 6601/6601 [17:53<00:00,  6.15it/s]\n"
     ]
    },
    {
     "name": "stdout",
     "output_type": "stream",
     "text": [
      "Epoch 7/20, Loss: 0.6103368305726818\n"
     ]
    },
    {
     "name": "stderr",
     "output_type": "stream",
     "text": [
      "  0%|                                                                                 | 1/6601 [00:00<17:30,  6.28it/s]"
     ]
    },
    {
     "name": "stdout",
     "output_type": "stream",
     "text": [
      "Loss at batch_idx 0: 0.48519885540008545\n"
     ]
    },
    {
     "name": "stderr",
     "output_type": "stream",
     "text": [
      " 30%|███████████████████████▋                                                      | 2002/6601 [05:18<12:05,  6.34it/s]"
     ]
    },
    {
     "name": "stdout",
     "output_type": "stream",
     "text": [
      "Loss at batch_idx 2000: 0.6464503407478333\n"
     ]
    },
    {
     "name": "stderr",
     "output_type": "stream",
     "text": [
      " 61%|███████████████████████████████████████████████▎                              | 4002/6601 [10:36<06:58,  6.22it/s]"
     ]
    },
    {
     "name": "stdout",
     "output_type": "stream",
     "text": [
      "Loss at batch_idx 4000: 0.3514476716518402\n"
     ]
    },
    {
     "name": "stderr",
     "output_type": "stream",
     "text": [
      " 91%|██████████████████████████████████████████████████████████████████████▉       | 6002/6601 [15:55<01:36,  6.21it/s]"
     ]
    },
    {
     "name": "stdout",
     "output_type": "stream",
     "text": [
      "Loss at batch_idx 6000: 0.06140260025858879\n"
     ]
    },
    {
     "name": "stderr",
     "output_type": "stream",
     "text": [
      "100%|██████████████████████████████████████████████████████████████████████████████| 6601/6601 [17:30<00:00,  6.28it/s]\n"
     ]
    },
    {
     "name": "stdout",
     "output_type": "stream",
     "text": [
      "Epoch 8/20, Loss: 0.5344755441119206\n"
     ]
    },
    {
     "name": "stderr",
     "output_type": "stream",
     "text": [
      "  0%|                                                                                 | 1/6601 [00:00<17:19,  6.35it/s]"
     ]
    },
    {
     "name": "stdout",
     "output_type": "stream",
     "text": [
      "Loss at batch_idx 0: 0.5137872099876404\n"
     ]
    },
    {
     "name": "stderr",
     "output_type": "stream",
     "text": [
      " 30%|███████████████████████▋                                                      | 2002/6601 [05:17<12:18,  6.22it/s]"
     ]
    },
    {
     "name": "stdout",
     "output_type": "stream",
     "text": [
      "Loss at batch_idx 2000: 0.6423000693321228\n"
     ]
    },
    {
     "name": "stderr",
     "output_type": "stream",
     "text": [
      " 61%|███████████████████████████████████████████████▎                              | 4002/6601 [10:34<07:02,  6.15it/s]"
     ]
    },
    {
     "name": "stdout",
     "output_type": "stream",
     "text": [
      "Loss at batch_idx 4000: 0.2945106029510498\n"
     ]
    },
    {
     "name": "stderr",
     "output_type": "stream",
     "text": [
      " 91%|██████████████████████████████████████████████████████████████████████▉       | 6002/6601 [15:51<01:36,  6.19it/s]"
     ]
    },
    {
     "name": "stdout",
     "output_type": "stream",
     "text": [
      "Loss at batch_idx 6000: 0.009332605637609959\n"
     ]
    },
    {
     "name": "stderr",
     "output_type": "stream",
     "text": [
      "100%|██████████████████████████████████████████████████████████████████████████████| 6601/6601 [17:26<00:00,  6.31it/s]\n"
     ]
    },
    {
     "name": "stdout",
     "output_type": "stream",
     "text": [
      "Epoch 9/20, Loss: 0.47192113091812565\n"
     ]
    },
    {
     "name": "stderr",
     "output_type": "stream",
     "text": [
      "  0%|                                                                                 | 1/6601 [00:00<17:30,  6.28it/s]"
     ]
    },
    {
     "name": "stdout",
     "output_type": "stream",
     "text": [
      "Loss at batch_idx 0: 0.3852637708187103\n"
     ]
    },
    {
     "name": "stderr",
     "output_type": "stream",
     "text": [
      " 30%|███████████████████████▋                                                      | 2002/6601 [05:17<12:00,  6.38it/s]"
     ]
    },
    {
     "name": "stdout",
     "output_type": "stream",
     "text": [
      "Loss at batch_idx 2000: 0.4861602485179901\n"
     ]
    },
    {
     "name": "stderr",
     "output_type": "stream",
     "text": [
      " 61%|███████████████████████████████████████████████▎                              | 4002/6601 [10:34<07:00,  6.19it/s]"
     ]
    },
    {
     "name": "stdout",
     "output_type": "stream",
     "text": [
      "Loss at batch_idx 4000: 0.23918604850769043\n"
     ]
    },
    {
     "name": "stderr",
     "output_type": "stream",
     "text": [
      " 91%|██████████████████████████████████████████████████████████████████████▉       | 6002/6601 [15:52<01:35,  6.25it/s]"
     ]
    },
    {
     "name": "stdout",
     "output_type": "stream",
     "text": [
      "Loss at batch_idx 6000: 0.013915755786001682\n"
     ]
    },
    {
     "name": "stderr",
     "output_type": "stream",
     "text": [
      "100%|██████████████████████████████████████████████████████████████████████████████| 6601/6601 [17:27<00:00,  6.30it/s]\n"
     ]
    },
    {
     "name": "stdout",
     "output_type": "stream",
     "text": [
      "Epoch 10/20, Loss: 0.4166981583831028\n"
     ]
    },
    {
     "name": "stderr",
     "output_type": "stream",
     "text": [
      "  0%|                                                                                 | 1/6601 [00:00<17:52,  6.15it/s]"
     ]
    },
    {
     "name": "stdout",
     "output_type": "stream",
     "text": [
      "Loss at batch_idx 0: 0.47037172317504883\n"
     ]
    },
    {
     "name": "stderr",
     "output_type": "stream",
     "text": [
      " 30%|███████████████████████▋                                                      | 2002/6601 [05:16<12:09,  6.30it/s]"
     ]
    },
    {
     "name": "stdout",
     "output_type": "stream",
     "text": [
      "Loss at batch_idx 2000: 0.4459249675273895\n"
     ]
    },
    {
     "name": "stderr",
     "output_type": "stream",
     "text": [
      " 61%|███████████████████████████████████████████████▎                              | 4002/6601 [10:32<06:56,  6.24it/s]"
     ]
    },
    {
     "name": "stdout",
     "output_type": "stream",
     "text": [
      "Loss at batch_idx 4000: 0.27246594429016113\n"
     ]
    },
    {
     "name": "stderr",
     "output_type": "stream",
     "text": [
      " 91%|██████████████████████████████████████████████████████████████████████▉       | 6002/6601 [15:47<01:35,  6.28it/s]"
     ]
    },
    {
     "name": "stdout",
     "output_type": "stream",
     "text": [
      "Loss at batch_idx 6000: 0.02158806286752224\n"
     ]
    },
    {
     "name": "stderr",
     "output_type": "stream",
     "text": [
      "100%|██████████████████████████████████████████████████████████████████████████████| 6601/6601 [17:22<00:00,  6.33it/s]\n"
     ]
    },
    {
     "name": "stdout",
     "output_type": "stream",
     "text": [
      "Epoch 11/20, Loss: 0.3703640045345619\n"
     ]
    },
    {
     "name": "stderr",
     "output_type": "stream",
     "text": [
      "  0%|                                                                                 | 1/6601 [00:00<17:07,  6.42it/s]"
     ]
    },
    {
     "name": "stdout",
     "output_type": "stream",
     "text": [
      "Loss at batch_idx 0: 0.22478178143501282\n"
     ]
    },
    {
     "name": "stderr",
     "output_type": "stream",
     "text": [
      " 30%|███████████████████████▋                                                      | 2002/6601 [05:15<12:02,  6.36it/s]"
     ]
    },
    {
     "name": "stdout",
     "output_type": "stream",
     "text": [
      "Loss at batch_idx 2000: 0.3580683469772339\n"
     ]
    },
    {
     "name": "stderr",
     "output_type": "stream",
     "text": [
      " 61%|███████████████████████████████████████████████▎                              | 4002/6601 [10:31<06:53,  6.28it/s]"
     ]
    },
    {
     "name": "stdout",
     "output_type": "stream",
     "text": [
      "Loss at batch_idx 4000: 0.14367073774337769\n"
     ]
    },
    {
     "name": "stderr",
     "output_type": "stream",
     "text": [
      " 91%|██████████████████████████████████████████████████████████████████████▉       | 6002/6601 [15:49<01:35,  6.26it/s]"
     ]
    },
    {
     "name": "stdout",
     "output_type": "stream",
     "text": [
      "Loss at batch_idx 6000: 0.05782344192266464\n"
     ]
    },
    {
     "name": "stderr",
     "output_type": "stream",
     "text": [
      "100%|██████████████████████████████████████████████████████████████████████████████| 6601/6601 [17:24<00:00,  6.32it/s]\n"
     ]
    },
    {
     "name": "stdout",
     "output_type": "stream",
     "text": [
      "Epoch 12/20, Loss: 0.32977450016255405\n"
     ]
    },
    {
     "name": "stderr",
     "output_type": "stream",
     "text": [
      "  0%|                                                                                 | 1/6601 [00:00<17:33,  6.26it/s]"
     ]
    },
    {
     "name": "stdout",
     "output_type": "stream",
     "text": [
      "Loss at batch_idx 0: 0.29457515478134155\n"
     ]
    },
    {
     "name": "stderr",
     "output_type": "stream",
     "text": [
      " 30%|███████████████████████▋                                                      | 2002/6601 [05:17<11:58,  6.40it/s]"
     ]
    },
    {
     "name": "stdout",
     "output_type": "stream",
     "text": [
      "Loss at batch_idx 2000: 0.3929191529750824\n"
     ]
    },
    {
     "name": "stderr",
     "output_type": "stream",
     "text": [
      " 61%|███████████████████████████████████████████████▎                              | 4002/6601 [10:34<06:58,  6.21it/s]"
     ]
    },
    {
     "name": "stdout",
     "output_type": "stream",
     "text": [
      "Loss at batch_idx 4000: 0.22188478708267212\n"
     ]
    },
    {
     "name": "stderr",
     "output_type": "stream",
     "text": [
      " 91%|██████████████████████████████████████████████████████████████████████▉       | 6002/6601 [15:51<01:33,  6.38it/s]"
     ]
    },
    {
     "name": "stdout",
     "output_type": "stream",
     "text": [
      "Loss at batch_idx 6000: 0.024038296192884445\n"
     ]
    },
    {
     "name": "stderr",
     "output_type": "stream",
     "text": [
      "100%|██████████████████████████████████████████████████████████████████████████████| 6601/6601 [17:26<00:00,  6.31it/s]\n"
     ]
    },
    {
     "name": "stdout",
     "output_type": "stream",
     "text": [
      "Epoch 13/20, Loss: 0.2932721647503458\n"
     ]
    },
    {
     "name": "stderr",
     "output_type": "stream",
     "text": [
      "  0%|                                                                                 | 1/6601 [00:00<17:16,  6.36it/s]"
     ]
    },
    {
     "name": "stdout",
     "output_type": "stream",
     "text": [
      "Loss at batch_idx 0: 0.242197185754776\n"
     ]
    },
    {
     "name": "stderr",
     "output_type": "stream",
     "text": [
      " 30%|███████████████████████▋                                                      | 2002/6601 [05:16<12:12,  6.28it/s]"
     ]
    },
    {
     "name": "stdout",
     "output_type": "stream",
     "text": [
      "Loss at batch_idx 2000: 0.2653512954711914\n"
     ]
    },
    {
     "name": "stderr",
     "output_type": "stream",
     "text": [
      " 61%|███████████████████████████████████████████████▎                              | 4002/6601 [10:32<06:54,  6.27it/s]"
     ]
    },
    {
     "name": "stdout",
     "output_type": "stream",
     "text": [
      "Loss at batch_idx 4000: 0.29024654626846313\n"
     ]
    },
    {
     "name": "stderr",
     "output_type": "stream",
     "text": [
      " 91%|██████████████████████████████████████████████████████████████████████▉       | 6002/6601 [15:49<01:45,  5.65it/s]"
     ]
    },
    {
     "name": "stdout",
     "output_type": "stream",
     "text": [
      "Loss at batch_idx 6000: 0.02809583581984043\n"
     ]
    },
    {
     "name": "stderr",
     "output_type": "stream",
     "text": [
      "100%|██████████████████████████████████████████████████████████████████████████████| 6601/6601 [17:24<00:00,  6.32it/s]\n"
     ]
    },
    {
     "name": "stdout",
     "output_type": "stream",
     "text": [
      "Epoch 14/20, Loss: 0.2615197287236514\n"
     ]
    },
    {
     "name": "stderr",
     "output_type": "stream",
     "text": [
      "  0%|                                                                                 | 1/6601 [00:00<18:00,  6.11it/s]"
     ]
    },
    {
     "name": "stdout",
     "output_type": "stream",
     "text": [
      "Loss at batch_idx 0: 0.21056580543518066\n"
     ]
    },
    {
     "name": "stderr",
     "output_type": "stream",
     "text": [
      " 30%|███████████████████████▋                                                      | 2002/6601 [05:16<12:14,  6.26it/s]"
     ]
    },
    {
     "name": "stdout",
     "output_type": "stream",
     "text": [
      "Loss at batch_idx 2000: 0.3570648431777954\n"
     ]
    },
    {
     "name": "stderr",
     "output_type": "stream",
     "text": [
      " 61%|███████████████████████████████████████████████▎                              | 4002/6601 [10:31<06:52,  6.30it/s]"
     ]
    },
    {
     "name": "stdout",
     "output_type": "stream",
     "text": [
      "Loss at batch_idx 4000: 0.1906173974275589\n"
     ]
    },
    {
     "name": "stderr",
     "output_type": "stream",
     "text": [
      " 91%|██████████████████████████████████████████████████████████████████████▉       | 6002/6601 [15:47<01:34,  6.31it/s]"
     ]
    },
    {
     "name": "stdout",
     "output_type": "stream",
     "text": [
      "Loss at batch_idx 6000: 0.009435366839170456\n"
     ]
    },
    {
     "name": "stderr",
     "output_type": "stream",
     "text": [
      "100%|██████████████████████████████████████████████████████████████████████████████| 6601/6601 [17:21<00:00,  6.34it/s]\n"
     ]
    },
    {
     "name": "stdout",
     "output_type": "stream",
     "text": [
      "Epoch 15/20, Loss: 0.23389501907854293\n"
     ]
    },
    {
     "name": "stderr",
     "output_type": "stream",
     "text": [
      "  0%|                                                                                 | 1/6601 [00:00<17:13,  6.39it/s]"
     ]
    },
    {
     "name": "stdout",
     "output_type": "stream",
     "text": [
      "Loss at batch_idx 0: 0.2449929416179657\n"
     ]
    },
    {
     "name": "stderr",
     "output_type": "stream",
     "text": [
      " 30%|███████████████████████▋                                                      | 2002/6601 [05:16<11:53,  6.45it/s]"
     ]
    },
    {
     "name": "stdout",
     "output_type": "stream",
     "text": [
      "Loss at batch_idx 2000: 0.2932726740837097\n"
     ]
    },
    {
     "name": "stderr",
     "output_type": "stream",
     "text": [
      " 61%|███████████████████████████████████████████████▎                              | 4002/6601 [10:33<06:54,  6.27it/s]"
     ]
    },
    {
     "name": "stdout",
     "output_type": "stream",
     "text": [
      "Loss at batch_idx 4000: 0.10826777666807175\n"
     ]
    },
    {
     "name": "stderr",
     "output_type": "stream",
     "text": [
      " 91%|██████████████████████████████████████████████████████████████████████▉       | 6002/6601 [15:51<01:36,  6.20it/s]"
     ]
    },
    {
     "name": "stdout",
     "output_type": "stream",
     "text": [
      "Loss at batch_idx 6000: 0.0038393251597881317\n"
     ]
    },
    {
     "name": "stderr",
     "output_type": "stream",
     "text": [
      "100%|██████████████████████████████████████████████████████████████████████████████| 6601/6601 [17:26<00:00,  6.31it/s]\n"
     ]
    },
    {
     "name": "stdout",
     "output_type": "stream",
     "text": [
      "Epoch 16/20, Loss: 0.20951257392765432\n"
     ]
    },
    {
     "name": "stderr",
     "output_type": "stream",
     "text": [
      "  0%|                                                                                 | 1/6601 [00:00<17:32,  6.27it/s]"
     ]
    },
    {
     "name": "stdout",
     "output_type": "stream",
     "text": [
      "Loss at batch_idx 0: 0.33196577429771423\n"
     ]
    },
    {
     "name": "stderr",
     "output_type": "stream",
     "text": [
      " 30%|███████████████████████▋                                                      | 2002/6601 [05:19<12:11,  6.28it/s]"
     ]
    },
    {
     "name": "stdout",
     "output_type": "stream",
     "text": [
      "Loss at batch_idx 2000: 0.1995214968919754\n"
     ]
    },
    {
     "name": "stderr",
     "output_type": "stream",
     "text": [
      " 61%|███████████████████████████████████████████████▎                              | 4002/6601 [10:38<06:56,  6.24it/s]"
     ]
    },
    {
     "name": "stdout",
     "output_type": "stream",
     "text": [
      "Loss at batch_idx 4000: 0.13814394176006317\n"
     ]
    },
    {
     "name": "stderr",
     "output_type": "stream",
     "text": [
      " 91%|██████████████████████████████████████████████████████████████████████▉       | 6002/6601 [15:57<01:35,  6.25it/s]"
     ]
    },
    {
     "name": "stdout",
     "output_type": "stream",
     "text": [
      "Loss at batch_idx 6000: 0.008816206827759743\n"
     ]
    },
    {
     "name": "stderr",
     "output_type": "stream",
     "text": [
      "100%|██████████████████████████████████████████████████████████████████████████████| 6601/6601 [17:32<00:00,  6.27it/s]\n"
     ]
    },
    {
     "name": "stdout",
     "output_type": "stream",
     "text": [
      "Epoch 17/20, Loss: 0.18646896086496914\n"
     ]
    },
    {
     "name": "stderr",
     "output_type": "stream",
     "text": [
      "  0%|                                                                                 | 1/6601 [00:00<17:50,  6.17it/s]"
     ]
    },
    {
     "name": "stdout",
     "output_type": "stream",
     "text": [
      "Loss at batch_idx 0: 0.1890050321817398\n"
     ]
    },
    {
     "name": "stderr",
     "output_type": "stream",
     "text": [
      " 30%|███████████████████████▋                                                      | 2002/6601 [05:19<12:19,  6.22it/s]"
     ]
    },
    {
     "name": "stdout",
     "output_type": "stream",
     "text": [
      "Loss at batch_idx 2000: 0.22907549142837524\n"
     ]
    },
    {
     "name": "stderr",
     "output_type": "stream",
     "text": [
      " 61%|███████████████████████████████████████████████▎                              | 4002/6601 [10:37<06:56,  6.24it/s]"
     ]
    },
    {
     "name": "stdout",
     "output_type": "stream",
     "text": [
      "Loss at batch_idx 4000: 0.0939001813530922\n"
     ]
    },
    {
     "name": "stderr",
     "output_type": "stream",
     "text": [
      " 91%|██████████████████████████████████████████████████████████████████████▉       | 6002/6601 [15:57<01:36,  6.20it/s]"
     ]
    },
    {
     "name": "stdout",
     "output_type": "stream",
     "text": [
      "Loss at batch_idx 6000: 0.002252659760415554\n"
     ]
    },
    {
     "name": "stderr",
     "output_type": "stream",
     "text": [
      "100%|██████████████████████████████████████████████████████████████████████████████| 6601/6601 [17:33<00:00,  6.27it/s]\n"
     ]
    },
    {
     "name": "stdout",
     "output_type": "stream",
     "text": [
      "Epoch 18/20, Loss: 0.16637301461521686\n"
     ]
    },
    {
     "name": "stderr",
     "output_type": "stream",
     "text": [
      "  0%|                                                                                 | 1/6601 [00:00<17:29,  6.29it/s]"
     ]
    },
    {
     "name": "stdout",
     "output_type": "stream",
     "text": [
      "Loss at batch_idx 0: 0.09713391214609146\n"
     ]
    },
    {
     "name": "stderr",
     "output_type": "stream",
     "text": [
      " 30%|███████████████████████▋                                                      | 2002/6601 [05:20<12:20,  6.21it/s]"
     ]
    },
    {
     "name": "stdout",
     "output_type": "stream",
     "text": [
      "Loss at batch_idx 2000: 0.17557014524936676\n"
     ]
    },
    {
     "name": "stderr",
     "output_type": "stream",
     "text": [
      " 61%|███████████████████████████████████████████████▎                              | 4002/6601 [10:40<06:57,  6.22it/s]"
     ]
    },
    {
     "name": "stdout",
     "output_type": "stream",
     "text": [
      "Loss at batch_idx 4000: 0.18518349528312683\n"
     ]
    },
    {
     "name": "stderr",
     "output_type": "stream",
     "text": [
      " 91%|██████████████████████████████████████████████████████████████████████▉       | 6002/6601 [15:59<01:36,  6.21it/s]"
     ]
    },
    {
     "name": "stdout",
     "output_type": "stream",
     "text": [
      "Loss at batch_idx 6000: 0.0012295942287892103\n"
     ]
    },
    {
     "name": "stderr",
     "output_type": "stream",
     "text": [
      "100%|██████████████████████████████████████████████████████████████████████████████| 6601/6601 [17:35<00:00,  6.26it/s]\n"
     ]
    },
    {
     "name": "stdout",
     "output_type": "stream",
     "text": [
      "Epoch 19/20, Loss: 0.14995749677102416\n"
     ]
    },
    {
     "name": "stderr",
     "output_type": "stream",
     "text": [
      "  0%|                                                                                 | 1/6601 [00:00<17:51,  6.16it/s]"
     ]
    },
    {
     "name": "stdout",
     "output_type": "stream",
     "text": [
      "Loss at batch_idx 0: 0.10313673317432404\n"
     ]
    },
    {
     "name": "stderr",
     "output_type": "stream",
     "text": [
      " 30%|███████████████████████▋                                                      | 2002/6601 [05:19<12:11,  6.29it/s]"
     ]
    },
    {
     "name": "stdout",
     "output_type": "stream",
     "text": [
      "Loss at batch_idx 2000: 0.18491235375404358\n"
     ]
    },
    {
     "name": "stderr",
     "output_type": "stream",
     "text": [
      " 61%|███████████████████████████████████████████████▎                              | 4002/6601 [10:37<07:01,  6.17it/s]"
     ]
    },
    {
     "name": "stdout",
     "output_type": "stream",
     "text": [
      "Loss at batch_idx 4000: 0.04361049458384514\n"
     ]
    },
    {
     "name": "stderr",
     "output_type": "stream",
     "text": [
      " 91%|██████████████████████████████████████████████████████████████████████▉       | 6002/6601 [15:57<01:35,  6.28it/s]"
     ]
    },
    {
     "name": "stdout",
     "output_type": "stream",
     "text": [
      "Loss at batch_idx 6000: 0.005213051103055477\n"
     ]
    },
    {
     "name": "stderr",
     "output_type": "stream",
     "text": [
      "100%|██████████████████████████████████████████████████████████████████████████████| 6601/6601 [17:33<00:00,  6.27it/s]"
     ]
    },
    {
     "name": "stdout",
     "output_type": "stream",
     "text": [
      "Epoch 20/20, Loss: 0.13278630816446763\n"
     ]
    },
    {
     "name": "stderr",
     "output_type": "stream",
     "text": [
      "\n"
     ]
    }
   ],
   "source": [
    "training_loop(model, optimizer, criterion, nepochs, input_ids_batches, attention_mask_batches, device)"
   ]
  },
  {
   "cell_type": "code",
   "execution_count": 16,
   "id": "3dfa2af6-f531-4d52-9f05-3ff42bfbfefc",
   "metadata": {},
   "outputs": [],
   "source": [
    "model_save_path = './/model_bert_attn_02.pth'  # 03 is best one so far\n",
    "torch.save(model.state_dict(), model_save_path)\n"
   ]
  },
  {
   "cell_type": "code",
   "execution_count": 10,
   "id": "b0614b0b-e09e-4f6a-ab7a-ce75b46b2f36",
   "metadata": {},
   "outputs": [],
   "source": [
    "class Baseline(nn.Module):\n",
    "    def __init__(self, vocab_size, hidden_size):\n",
    "        super().__init__()\n",
    "        self.vocab_size = vocab_size\n",
    "        self.hidden_size = hidden_size\n",
    "        self.embed = nn.Embedding(vocab_size, hidden_size)\n",
    "        self.bn = nn.BatchNorm1d(hidden_size)\n",
    "        self.W = nn.Linear(self.hidden_size, self.hidden_size)\n",
    "        self.U = nn.Linear(self.hidden_size, self.vocab_size)\n",
    "        self.V = nn.Linear(self.hidden_size, self.hidden_size)\n",
    "\n",
    "    def forward(self, input_token_index, hidden_prev):\n",
    "        input_token_index = input_token_index.long()  # Ensure input is LongTensor\n",
    "        input_embed = self.embed(input_token_index)\n",
    "        hidden_curr = torch.sigmoid(self.bn(self.W(input_embed)) + self.V(hidden_prev))\n",
    "        output = torch.softmax(self.U(hidden_curr), dim=-1)\n",
    "        return output, hidden_curr\n",
    "\n",
    "    def initHidden(self):\n",
    "        return torch.zeros(1, self.hidden_size).to(device)\n",
    "\n",
    "    def get_embeddings(self):\n",
    "        return self.embed(torch.arange(self.vocab_size)).detach().numpy()"
   ]
  },
  {
   "cell_type": "code",
   "execution_count": 11,
   "id": "3e902679-08b1-4ffb-8226-5f0383b1f643",
   "metadata": {},
   "outputs": [
    {
     "data": {
      "text/plain": [
       "Baseline(\n",
       "  (embed): Embedding(68938, 128)\n",
       "  (bn): BatchNorm1d(128, eps=1e-05, momentum=0.1, affine=True, track_running_stats=True)\n",
       "  (W): Linear(in_features=128, out_features=128, bias=True)\n",
       "  (U): Linear(in_features=128, out_features=68938, bias=True)\n",
       "  (V): Linear(in_features=128, out_features=128, bias=True)\n",
       ")"
      ]
     },
     "execution_count": 11,
     "metadata": {},
     "output_type": "execute_result"
    }
   ],
   "source": [
    "nhidden = 128\n",
    "baseline_model = Baseline(len(vocabulary), nhidden).to(device)\n",
    "#basic_model = Baseline(hidden_size, bert_model_name, num_layers).to(device) # Use the same arguments as you used for the training model\n",
    "\n",
    "# Path where the model state dict is saved  # Replace with your actual path\n",
    "path='.//trained_rnn_model_03.pth'\n",
    "# Load the saved state dict into the model\n",
    "baseline_model.load_state_dict(torch.load(path))\n",
    "\n",
    "# Set the model to evaluation mode if you are doing inference\n",
    "baseline_model.eval()"
   ]
  },
  {
   "cell_type": "code",
   "execution_count": 12,
   "id": "7e9eb1fa-c1d0-4e2a-97e5-757778343dd9",
   "metadata": {},
   "outputs": [
    {
     "data": {
      "text/plain": [
       "SRN(\n",
       "  (bert): BertModel(\n",
       "    (embeddings): BertEmbeddings(\n",
       "      (word_embeddings): Embedding(30522, 768, padding_idx=0)\n",
       "      (position_embeddings): Embedding(512, 768)\n",
       "      (token_type_embeddings): Embedding(2, 768)\n",
       "      (LayerNorm): LayerNorm((768,), eps=1e-12, elementwise_affine=True)\n",
       "      (dropout): Dropout(p=0.1, inplace=False)\n",
       "    )\n",
       "    (encoder): BertEncoder(\n",
       "      (layer): ModuleList(\n",
       "        (0-11): 12 x BertLayer(\n",
       "          (attention): BertAttention(\n",
       "            (self): BertSelfAttention(\n",
       "              (query): Linear(in_features=768, out_features=768, bias=True)\n",
       "              (key): Linear(in_features=768, out_features=768, bias=True)\n",
       "              (value): Linear(in_features=768, out_features=768, bias=True)\n",
       "              (dropout): Dropout(p=0.1, inplace=False)\n",
       "            )\n",
       "            (output): BertSelfOutput(\n",
       "              (dense): Linear(in_features=768, out_features=768, bias=True)\n",
       "              (LayerNorm): LayerNorm((768,), eps=1e-12, elementwise_affine=True)\n",
       "              (dropout): Dropout(p=0.1, inplace=False)\n",
       "            )\n",
       "          )\n",
       "          (intermediate): BertIntermediate(\n",
       "            (dense): Linear(in_features=768, out_features=3072, bias=True)\n",
       "            (intermediate_act_fn): GELUActivation()\n",
       "          )\n",
       "          (output): BertOutput(\n",
       "            (dense): Linear(in_features=3072, out_features=768, bias=True)\n",
       "            (LayerNorm): LayerNorm((768,), eps=1e-12, elementwise_affine=True)\n",
       "            (dropout): Dropout(p=0.1, inplace=False)\n",
       "          )\n",
       "        )\n",
       "      )\n",
       "    )\n",
       "    (pooler): BertPooler(\n",
       "      (dense): Linear(in_features=768, out_features=768, bias=True)\n",
       "      (activation): Tanh()\n",
       "    )\n",
       "  )\n",
       "  (embedding_projection): Linear(in_features=768, out_features=256, bias=True)\n",
       "  (lstm): LSTM(256, 256, num_layers=4, batch_first=True, dropout=0.1)\n",
       "  (attention): Attention(\n",
       "    (attn): Linear(in_features=512, out_features=256, bias=True)\n",
       "  )\n",
       "  (dropout): Dropout(p=0.1, inplace=False)\n",
       "  (fc): Linear(in_features=256, out_features=30522, bias=True)\n",
       ")"
      ]
     },
     "execution_count": 12,
     "metadata": {},
     "output_type": "execute_result"
    }
   ],
   "source": [
    "hidden_size=256\n",
    "bert_model_name='bert-base-uncased'\n",
    "num_layers=4\n",
    "loaded_model = SRN(hidden_size, bert_model_name, num_layers).to(device) # Use the same arguments as you used for the training model\n",
    "\n",
    "# Path where the model state dict is saved  # Replace with your actual path\n",
    "model_save_path=\".//model_bert_attn_02.pth\"\n",
    "# Load the saved state dict into the model\n",
    "loaded_model.load_state_dict(torch.load(model_save_path))\n",
    "\n",
    "# Set the model to evaluation mode if you are doing inference\n",
    "loaded_model.eval()"
   ]
  },
  {
   "cell_type": "code",
   "execution_count": null,
   "id": "ff39b94c-4fde-4433-be5b-fdc0d4de106e",
   "metadata": {},
   "outputs": [],
   "source": [
    "baseline_trained_embeddings=baseline_model.embed.weight.data"
   ]
  },
  {
   "cell_type": "code",
   "execution_count": null,
   "id": "3eb9df4f-6991-499a-ad13-735be9537457",
   "metadata": {},
   "outputs": [],
   "source": [
    "baseline_trained_embeddings.shape"
   ]
  },
  {
   "cell_type": "code",
   "execution_count": 19,
   "id": "8bd0dcf5-41ac-4268-81e9-2ddc20937554",
   "metadata": {},
   "outputs": [],
   "source": [
    "def batched_inference(sentences, model, tokenizer, batch_size, device='cpu'):\n",
    "    # Create mini-batches\n",
    "    input_ids_batches, attention_mask_batches = create_mini_batches(sentences, tokenizer, batch_size)\n",
    "    #print(input_ids_batches)\n",
    "    all_predicted_sentences = []\n",
    "    # Rest of your function...\n",
    "    model.eval()\n",
    "    with torch.no_grad():\n",
    "        for i in range(5):\n",
    "            for input_ids, attention_mask in zip(input_ids_batches, attention_mask_batches):\n",
    "                # Move tensors to the specified device\n",
    "                input_ids = input_ids.to(device)\n",
    "                attention_mask = attention_mask.to(device)\n",
    "                #print(input_ids)\n",
    "                # Perform inference on the batch\n",
    "                outputs = model(input_ids, attention_mask)\n",
    "\n",
    "                # Apply softmax over the second dimension (vocab_size)\n",
    "                probs = F.softmax(outputs, dim=1)\n",
    "                \n",
    "\n",
    "                # Get the index of the max probability for each element in the batch\n",
    "                _, predicted_token_ids = torch.max(probs, dim=1)\n",
    "\n",
    "                # Convert token ids to words and then to sentences\n",
    "                for idx in predicted_token_ids:\n",
    "                    # Convert each id to token\n",
    "                    token = tokenizer.convert_ids_to_tokens(idx.item())\n",
    "                    # Convert token to string and append to list\n",
    "                    sentence = tokenizer.convert_tokens_to_string([token])\n",
    "                    all_predicted_sentences.append(sentence)\n",
    "\n",
    "                input_ids_batches, attention_mask_batches = create_mini_batches(all_predicted_sentences, tokenizer, batch_size)\n",
    "\n",
    "    return all_predicted_sentences"
   ]
  },
  {
   "cell_type": "code",
   "execution_count": 21,
   "id": "87bc67b8-88ff-4736-b469-6c8a3946dc25",
   "metadata": {},
   "outputs": [
    {
     "name": "stdout",
     "output_type": "stream",
     "text": [
      "['surrender', 'i', 'i', 'i', 'i', 'i', 'i', 'i', 'i', 'i', 'i', 'i', 'i', 'i', 'i', 'i']\n"
     ]
    }
   ],
   "source": [
    "loaded_model.eval()\n",
    "loaded_model.to('cpu')\n",
    "batch_size=32\n",
    "test_sent=['a woman in her 30s has never had an orgasm']\n",
    "predicted_sentences = batched_inference(test_sent, loaded_model, tokenizer,batch_size)\n",
    "print(predicted_sentences)"
   ]
  },
  {
   "cell_type": "code",
   "execution_count": 22,
   "id": "b4318815-5e81-42a6-96b5-326d770f0b59",
   "metadata": {},
   "outputs": [
    {
     "data": {
      "text/plain": [
       "['Right? Seems like a nit of a reach imo.',\n",
       " 'I cannot believe a woman in her 30s has never had an orgasm. I would have tried everything on the planet to have one.',\n",
       " 'She is pretty smart to reject. You sound highly narcissistic and delusional. You may be an actual psychopath.',\n",
       " 'Bro I love how she deletes it so all ur hard work is gon',\n",
       " 'Sweet summer child',\n",
       " 'Anywhere skytrain wants to expand my tax paying dollars will be ok with it.',\n",
       " 'Haha, some days I channel Dory from finding nemo- \"Just keep swimming, just keep swimming\". Glad to hear you have a break coming. ',\n",
       " 'In the end it is just another day surrounded by fake fans. If people wana watch a team that never loses they should stick to NCAAF',\n",
       " 'All those things are definitely your fault. She is much better off without you.',\n",
       " 'Low sex drive is not uncommon, but one must make sure that one never marry someone with low sex drive if sex drive is important to you. ',\n",
       " 'No wonder RemindMeBot defaulted to one day :P',\n",
       " 'So the tldr version \"I pulled it out of my ass also get off my subreddit\"',\n",
       " 'Pretty sure it’s going on in the apartment across from me right now. My neighbors are trashy',\n",
       " 'Nukeville sounds like a nicer neighborhood. Like no broken and burnt houses and like children playing in the street and people having barbecues',\n",
       " 'This is still an inappropriate photo, no matter what type of dog it is',\n",
       " 'Here, kiddo. Happy cake day. You need it more than I do.',\n",
       " 'What the hell does metaphysics have to do with this? Also it’s a meme, get over yourself. ',\n",
       " \"Doing Martial arts since I was 16 (26 now), hasn't done much about my FAdom\",\n",
       " 'Some randoms from his Minecraft sever probably',\n",
       " 'Pfft why pay money when you can get similar negativity on reddit for free']"
      ]
     },
     "execution_count": 22,
     "metadata": {},
     "output_type": "execute_result"
    }
   ],
   "source": [
    "sentences[10020:10040]"
   ]
  },
  {
   "cell_type": "code",
   "execution_count": 23,
   "id": "71e1d43f-9a2a-4842-aa54-98963ba3b06d",
   "metadata": {},
   "outputs": [],
   "source": [
    "import torch\n",
    "import scipy.cluster.hierarchy as sch\n",
    "import matplotlib.pyplot as plt\n",
    "\n",
    "def hierarchical_clustering_on_words(model, tokenizer, set_of_words, linkage_method='ward'):\n",
    "    # Extract the embeddings for the first num_words in the vocabulary\n",
    "    word_embeddings = []\n",
    "    words = []\n",
    "    for word in set_of_words:\n",
    "        input_ids = tokenizer.encode(word, add_special_tokens=False, return_tensors='pt')\n",
    "        with torch.no_grad():\n",
    "            outputs = model.bert(input_ids)\n",
    "        word_embeddings.append(outputs.last_hidden_state.squeeze(0).mean(0).numpy())\n",
    "        words.append(word)\n",
    "\n",
    "    # Perform hierarchical clustering\n",
    "    Z = sch.linkage(word_embeddings, method=linkage_method)\n",
    "\n",
    "    # Plot dendrogram\n",
    "    plt.figure(figsize=(10, 7))\n",
    "    dendrogram = sch.dendrogram(Z, labels=words, orientation='right')\n",
    "    plt.title('Hierarchical Clustering Dendrogram')\n",
    "    plt.xlabel('Distance')\n",
    "    plt.ylabel('Words')\n",
    "    plt.show()\n",
    "\n",
    "    return dendrogram\n"
   ]
  },
  {
   "cell_type": "code",
   "execution_count": 19,
   "id": "462a3216-33d7-4803-8a91-6a95379afd23",
   "metadata": {},
   "outputs": [],
   "source": [
    "sorted_vocabulary = {k: v for k, v in sorted(vocabulary.items(), key=lambda item: item[1] , reverse=True)}"
   ]
  },
  {
   "cell_type": "code",
   "execution_count": 21,
   "id": "9b80ed11-6389-41dd-89a6-fa99533ee66d",
   "metadata": {},
   "outputs": [],
   "source": [
    "set_of_words=list(sorted_vocabulary.keys())[:50]"
   ]
  },
  {
   "cell_type": "code",
   "execution_count": 24,
   "id": "b80145d4-3ce1-4ba5-b488-f901b124ab18",
   "metadata": {},
   "outputs": [
    {
     "data": {
      "text/plain": [
       "['Police.', 'Juju', '\"extremist\"', 'gazillion', 'Arabia']"
      ]
     },
     "execution_count": 24,
     "metadata": {},
     "output_type": "execute_result"
    }
   ],
   "source": [
    "set_of_words[:5]"
   ]
  },
  {
   "cell_type": "code",
   "execution_count": 27,
   "id": "6460b8ab-f2db-4b2f-b9cc-b4b647d77660",
   "metadata": {},
   "outputs": [
    {
     "data": {
      "image/png": "[encoded data removed]",
      "text/plain": [
       "<Figure size 1000x700 with 1 Axes>"
      ]
     },
     "metadata": {},
     "output_type": "display_data"
    }
   ],
   "source": [
    "loaded_model.to('cpu')\n",
    "dendrogram = hierarchical_clustering_on_words(loaded_model, tokenizer, set_of_words, linkage_method='ward')"
   ]
  },
  {
   "cell_type": "code",
   "execution_count": 37,
   "id": "9821b7db-7cd0-43d7-a93d-2c9a82447266",
   "metadata": {},
   "outputs": [],
   "source": [
    "import torch\n",
    "import scipy.cluster.hierarchy as sch\n",
    "import matplotlib.pyplot as plt\n",
    "import numpy as np\n",
    "\n",
    "def hierarchical_clustering_and_cosine_similarity(model, tokenizer, set_of_words,distance_threshold=None, linkage_method='ward'):\n",
    "    # Extract the embeddings for the words\n",
    "    word_embeddings = []\n",
    "    words = []\n",
    "    for word in set_of_words:\n",
    "        input_ids = tokenizer.encode(word, add_special_tokens=False, return_tensors='pt')\n",
    "        with torch.no_grad():\n",
    "            outputs = model.bert(input_ids)\n",
    "        word_embeddings.append(outputs.last_hidden_state.squeeze(0).mean(0).numpy())\n",
    "        words.append(word)\n",
    "\n",
    "    # Perform hierarchical clustering\n",
    "    Z = sch.linkage(word_embeddings, method=linkage_method)\n",
    "\n",
    "    # Plot dendrogram\n",
    "    plt.figure(figsize=(10, 7))\n",
    "    dendrogram = sch.dendrogram(Z, labels=words, orientation='right')\n",
    "    plt.title('Hierarchical Clustering Dendrogram')\n",
    "    plt.xlabel('Distance')\n",
    "    plt.ylabel('Words')\n",
    "    plt.show()\n",
    "\n",
    "    # Identify clusters\n",
    "    if distance_threshold is not None:\n",
    "        clusters = sch.fcluster(Z, distance_threshold, criterion='distance')\n",
    "    else:\n",
    "        clusters = sch.fcluster(Z, t=8, criterion='maxclust')  # Default to a fixed number of clusters, t=8 for example\n",
    "\n",
    "    # Calculate average cosine similarity within clusters\n",
    "    cluster_cosine_similarities = []\n",
    "    word_embeddings = np.array(word_embeddings)\n",
    "    for cluster_id in np.unique(clusters):\n",
    "        indices = np.where(clusters == cluster_id)[0]\n",
    "        cluster_embeddings = word_embeddings[indices]\n",
    "\n",
    "        if len(cluster_embeddings) > 1:\n",
    "            cos_similarities = []\n",
    "            for i in range(len(cluster_embeddings)):\n",
    "                for j in range(i + 1, len(cluster_embeddings)):\n",
    "                    cos_sim = np.dot(cluster_embeddings[i], cluster_embeddings[j]) / (np.linalg.norm(cluster_embeddings[i]) * np.linalg.norm(cluster_embeddings[j]))\n",
    "                    cos_similarities.append(cos_sim)\n",
    "            \n",
    "            avg_cos_sim = np.mean(cos_similarities)\n",
    "            cluster_cosine_similarities.append(avg_cos_sim)\n",
    "\n",
    "    return cluster_cosine_similarities\n",
    "\n",
    "# Example usage\n",
    "# cosine_similarities = hierarchical_clustering_and_cosine_similarity(model, tokenizer, set_of_words)\n",
    "# print(cosine_similarities)\n"
   ]
  },
  {
   "cell_type": "code",
   "execution_count": 43,
   "id": "1f23ddef-bd94-47e2-80bb-fa7bf1add3e2",
   "metadata": {},
   "outputs": [
    {
     "data": {
      "image/png": "[encoded data removed]",
      "text/plain": [
       "<Figure size 1000x700 with 1 Axes>"
      ]
     },
     "metadata": {},
     "output_type": "display_data"
    }
   ],
   "source": [
    "loaded_model.to('cpu')\n",
    "distance_threshold=10\n",
    "dendrogram = hierarchical_clustering_and_cosine_similarity(loaded_model, tokenizer, set_of_words, distance_threshold,linkage_method='ward')"
   ]
  },
  {
   "cell_type": "code",
   "execution_count": 44,
   "id": "33e608b4-8d63-4ccc-ad80-accddf029bdb",
   "metadata": {},
   "outputs": [],
   "source": [
    "avg=sum(dendrogram)/len(dendrogram)"
   ]
  },
  {
   "cell_type": "code",
   "execution_count": 45,
   "id": "d1d93ff4-136d-43ac-96e5-e2948142be80",
   "metadata": {},
   "outputs": [
    {
     "data": {
      "text/plain": [
       "0.714190411567688"
      ]
     },
     "execution_count": 45,
     "metadata": {},
     "output_type": "execute_result"
    }
   ],
   "source": [
    "avg"
   ]
  },
  {
   "cell_type": "code",
   "execution_count": null,
   "id": "9a33b93e-a073-413e-8719-4aed3431429c",
   "metadata": {},
   "outputs": [],
   "source": []
  }
 ],
 "metadata": {
  "kernelspec": {
   "display_name": "Python 3 (ipykernel)",
   "language": "python",
   "name": "python3"
  },
  "language_info": {
   "codemirror_mode": {
    "name": "ipython",
    "version": 3
   },
   "file_extension": ".py",
   "mimetype": "text/x-python",
   "name": "python",
   "nbconvert_exporter": "python",
   "pygments_lexer": "ipython3",
   "version": "3.11.3"
  }
 },
 "nbformat": 4,
 "nbformat_minor": 5
}
