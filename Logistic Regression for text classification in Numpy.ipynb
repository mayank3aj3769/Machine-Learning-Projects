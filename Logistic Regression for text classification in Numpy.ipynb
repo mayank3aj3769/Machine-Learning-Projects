{
 "cells": [
  {
   "cell_type": "markdown",
   "id": "d184b3d1-7b4b-4ee0-85b9-12a205f58687",
   "metadata": {},
   "source": [
    "#### Download NLTK stopwords"
   ]
  },
  {
   "cell_type": "code",
   "execution_count": 3,
   "id": "636b2ba9-1e79-4479-b1d8-28e139590cf2",
   "metadata": {},
   "outputs": [
    {
     "name": "stderr",
     "output_type": "stream",
     "text": [
      "[nltk_data] Downloading package stopwords to a1-data\\nltk...\n",
      "[nltk_data]   Package stopwords is already up-to-date!\n"
     ]
    }
   ],
   "source": [
    "import os\n",
    "\n",
    "import nltk\n",
    "\n",
    "\n",
    "nltk_path = os.path.join('a1-data', 'nltk')\n",
    "nltk.download('stopwords', download_dir=nltk_path)\n",
    "nltk.data.path.append(nltk_path)"
   ]
  },
  {
   "cell_type": "code",
   "execution_count": 4,
   "id": "a98cc310-65bb-49dc-bd54-476f4e941f7d",
   "metadata": {},
   "outputs": [],
   "source": [
    "import sys\n",
    "\n",
    "\n",
    "def print_line(*args):\n",
    "    \"\"\" Inline print and go to the begining of line\n",
    "    \"\"\"\n",
    "    args1 = [str(arg) for arg in args]\n",
    "    str_ = ' '.join(args1)\n",
    "    sys.stdout.write(str_ + '\\r')\n",
    "    sys.stdout.flush()"
   ]
  },
  {
   "cell_type": "code",
   "execution_count": 5,
   "id": "653997a8-637a-4725-8ee5-f240913e0644",
   "metadata": {},
   "outputs": [],
   "source": [
    "from typing import List, Tuple, Union\n",
    "\n",
    "import numpy as np"
   ]
  },
  {
   "cell_type": "code",
   "execution_count": 6,
   "id": "9fc26198-cfbf-4c2f-89e6-460f5277c177",
   "metadata": {},
   "outputs": [],
   "source": [
    "def load_sentence_label(data_path: str) -> Tuple[List[str], List[str]]:\n",
    "    \"\"\" Load sentences and labels from the specified path\n",
    "    Args:\n",
    "        data_path: data_path: path to the data file, e.g., 'a1-data/SMSSpamCollection'\n",
    "        sentences: the raw text list of all sentences\n",
    "    Returns:\n",
    "        labels: the label list of all sentences\n",
    "    \"\"\"\n",
    "    sentences, labels = [], []\n",
    "    f=open(data_path,'r')\n",
    "    text=f.read() # reading the input dataset\n",
    "    messages=text.split(\"\\n\")  # splitting the text file in a list of labelled sentences\n",
    "    for i in messages:\n",
    "        temp=i.split('\\t')\n",
    "        if len(temp)==2:                        # if condition only ensures that there are no unlabelled samples taken\n",
    "            sentences.append(temp[1].lower())   # X contains sentences , each entry is converted to lower case\n",
    "            labels.append(temp[0].lower())      # y contains label\n",
    "    \n",
    "    return sentences, labels"
   ]
  },
  {
   "cell_type": "code",
   "execution_count": 7,
   "id": "103a0975-aaa9-48ac-9a2b-445757ef614b",
   "metadata": {},
   "outputs": [
    {
     "name": "stdout",
     "output_type": "stream",
     "text": [
      "Label map: {'ham': 0, 'spam': 1}\n",
      "Number of sentences and labels: 5574 5574\n"
     ]
    }
   ],
   "source": [
    "data_path = os.path.join('a1-data', 'SMSSpamCollection')\n",
    "sentences, labels = load_sentence_label('./a1-data/SMSSpamCollection')\n",
    "\n",
    "label_map = {}\n",
    "for label in sorted(list(set(labels))):\n",
    "    label_map[label] = len(label_map)\n",
    "labels = np.array([label_map[label] for label in labels], dtype=int)\n",
    "sentences = np.array(sentences, dtype=object)\n",
    "\n",
    "print('Label map:', label_map)\n",
    "print('Number of sentences and labels:', len(sentences), len(labels))"
   ]
  },
  {
   "cell_type": "markdown",
   "id": "b20468e5-9fb9-48ec-ae47-92b463549853",
   "metadata": {},
   "source": [
    "#### Split the data into training, validation and test"
   ]
  },
  {
   "cell_type": "code",
   "execution_count": 6,
   "id": "dba74813-eb7f-484c-bc9a-0f391ae48a09",
   "metadata": {},
   "outputs": [],
   "source": [
    "def train_test_split(sentences: np.ndarray,\n",
    "                     labels: np.ndarray,\n",
    "                     test_ratio: float = 0.2) -> Tuple[np.ndarray, np.ndarray, np.ndarray, np.ndarray]:\n",
    "    \"\"\" Split the sentences and labels into training and test data by shuffling\n",
    "    Args:\n",
    "        sentences: A numpy array containing all sentences\n",
    "        labels: A number array containing label ids\n",
    "        test_ratio: A float number to calculate the number of test data\n",
    "\n",
    "    Returns:\n",
    "        train_sentences: A numpy array containing all training sentences\n",
    "        train_labels: A number array containing all training label ids\n",
    "        test_sentences: A numpy array containing all test sentences\n",
    "        test_labels: A number array containing all test label ids\n",
    "    \"\"\"\n",
    "    assert 0 < test_ratio < 1\n",
    "    assert len(sentences) == len(labels)\n",
    "    \n",
    "    index = np.random.permutation(len(sentences))\n",
    "    test_size = int(len(sentences) * test_ratio)\n",
    "    test_index = index[:test_size]\n",
    "    train_index = index[test_size:]\n",
    "\n",
    "    train_sentences, train_labels = sentences[train_index], labels[train_index]\n",
    "    test_sentences, test_labels = sentences[test_index], labels[test_index]\n",
    "\n",
    "    return train_sentences, train_labels, test_sentences, test_labels"
   ]
  },
  {
   "cell_type": "code",
   "execution_count": 7,
   "id": "1757acef-5872-4683-86da-c4ae68af7f18",
   "metadata": {},
   "outputs": [
    {
     "name": "stdout",
     "output_type": "stream",
     "text": [
      "Training data length: 4014\n",
      "Validation data length: 446\n",
      "Test data length: 1114\n"
     ]
    }
   ],
   "source": [
    "np.random.seed(6666)\n",
    "\n",
    "test_ratio = 0.2\n",
    "valid_ratio = 0.1\n",
    "(train_sentences, train_labels,\n",
    "    test_sentences, test_labels) = train_test_split(sentences, labels, test_ratio)\n",
    "(train_sentences, train_labels,\n",
    "    valid_sentences, valid_labels) = train_test_split(train_sentences, train_labels, valid_ratio)\n",
    "\n",
    "print('Training data length:', len(train_sentences))\n",
    "print('Validation data length:', len(valid_sentences))\n",
    "print('Test data length:', len(test_sentences))"
   ]
  },
  {
   "cell_type": "code",
   "execution_count": 8,
   "id": "f1202227-1197-4c6c-b1c4-525bcbb65ea9",
   "metadata": {},
   "outputs": [],
   "source": [
    "def count_label(labels: np.ndarray, label_map: dict[str, int]) -> dict[str, int]:\n",
    "    \"\"\"\n",
    "    Args:\n",
    "        labels: The labels of a dataset \n",
    "        label_map: The mapping from label to label id\n",
    "    Returns:\n",
    "        label_count: The mapping from label to its count\n",
    "    \"\"\"\n",
    "    label_count = {key: 0 for key in label_map.keys()}\n",
    "    \n",
    "    for i in labels:\n",
    "        if i==0:\n",
    "            label_count['ham']+=1\n",
    "        else:\n",
    "            label_count['spam']+=1\n",
    "    \n",
    "    return label_count"
   ]
  },
  {
   "cell_type": "code",
   "execution_count": 9,
   "id": "e7744c12-8055-478a-b64b-67104fd81c92",
   "metadata": {},
   "outputs": [
    {
     "name": "stdout",
     "output_type": "stream",
     "text": [
      "Training: {'ham': 3483, 'spam': 531}\n",
      "Validation: {'ham': 389, 'spam': 57}\n",
      "Test: {'ham': 955, 'spam': 159}\n"
     ]
    }
   ],
   "source": [
    "print('Training:', count_label(train_labels, label_map))\n",
    "print('Validation:', count_label(valid_labels, label_map))\n",
    "print('Test:', count_label(test_labels, label_map))"
   ]
  },
  {
   "cell_type": "code",
   "execution_count": 10,
   "id": "1007c276-5692-4f3b-afd8-d2be06f6ecfd",
   "metadata": {},
   "outputs": [],
   "source": [
    "import re\n",
    "\n",
    "\n",
    "class Preprocessor:\n",
    "    def __init__(self, punctuation=True, url=True, number=True):\n",
    "        self.punctuation = punctuation\n",
    "        self.url = url\n",
    "        self.number = number\n",
    "\n",
    "    def apply(self, sentence: str) -> str:\n",
    "        \"\"\" Apply the preprocessing rules to the sentence\n",
    "        Args:\n",
    "            sentence: raw sentence\n",
    "        Returns:\n",
    "            sentence: clean sentence\n",
    "        \"\"\"\n",
    "        sentence = sentence.lower()\n",
    "        if self.url:\n",
    "            sentence = Preprocessor.remove_url(sentence)\n",
    "        if self.punctuation:\n",
    "            sentence = Preprocessor.remove_punctuation(sentence)\n",
    "        if self.number:\n",
    "            sentence = Preprocessor.remove_number(sentence)\n",
    "        sentence = re.sub(r'\\s+', ' ', sentence)\n",
    "        return sentence\n",
    "\n",
    "    @staticmethod\n",
    "    def remove_punctuation(sentence: str) -> str:\n",
    "        \"\"\" Remove punctuations in sentence with re\n",
    "        Args:\n",
    "            sentence: sentence with possible punctuations\n",
    "        Returns:\n",
    "            sentence: sentence without punctuations\n",
    "        \"\"\"\n",
    "        # Start your code here\n",
    "        sentence = re.sub(r'[^\\w\\s]', '', sentence)\n",
    "        # End\n",
    "        return sentence\n",
    "\n",
    "    @staticmethod\n",
    "    def remove_url(sentence: str) -> str:\n",
    "        \"\"\" Remove urls in text with re\n",
    "        Args:\n",
    "            sentence: sentence with possible urls\n",
    "        Returns:\n",
    "            sentence: sentence without urls\n",
    "        \"\"\"\n",
    "        # Start your code here\n",
    "        sentence = re.sub(r'http\\S+|www\\.\\S+', '', sentence)\n",
    "        # End\n",
    "        return sentence\n",
    "\n",
    "    @staticmethod\n",
    "    def remove_number(sentence: str) -> str:\n",
    "        \"\"\" Remove numbers in sentence with re\n",
    "        Args:\n",
    "            sentence: sentence with possible numbers\n",
    "        Returns:\n",
    "            sentence: sentence without numbers\n",
    "        \"\"\"\n",
    "        # Start your code here\n",
    "        sentence = re.sub(r'\\d+', '', sentence)\n",
    "        # End\n",
    "        return sentence"
   ]
  },
  {
   "cell_type": "code",
   "execution_count": 11,
   "id": "bbf21295-1e18-46ab-b9fe-07fba8d9e4c0",
   "metadata": {},
   "outputs": [
    {
     "name": "stdout",
     "output_type": "stream",
     "text": [
      "\"Interest rates are trimmed to 7.5 by the South African central bank (https://www.xxx.xxx), but the lack of warning hits the rand and surprises markets.\"\n",
      "===>\n",
      "\"interest rates are trimmed to by the south african central bank but the lack of warning hits the rand and surprises markets\"\n"
     ]
    }
   ],
   "source": [
    "sentence = \"Interest rates are trimmed to 7.5 by the South African central bank (https://www.xxx.xxx), but the lack of warning hits the rand and surprises markets.\"\n",
    "\n",
    "processor = Preprocessor()\n",
    "clean_sentence = processor.apply(sentence)\n",
    "\n",
    "print(f'\"{sentence}\"') \n",
    "print('===>')\n",
    "print(f'\"{clean_sentence}\"')"
   ]
  },
  {
   "cell_type": "code",
   "execution_count": 12,
   "id": "facf2964-b766-4a2a-8709-ac831c041b30",
   "metadata": {},
   "outputs": [
    {
     "name": "stdout",
     "output_type": "stream",
     "text": [
      "[\"wasn't\", 'ours', 'some', 'an', 't', 'can', \"mightn't\", \"didn't\", 'of', 'now']\n"
     ]
    }
   ],
   "source": [
    "from nltk.tokenize import word_tokenize\n",
    "from nltk import PorterStemmer\n",
    "from nltk.corpus import stopwords\n",
    "\n",
    "\n",
    "stopwords_set = set(stopwords.words('english'))\n",
    "stemmer = PorterStemmer()\n",
    "print(list(stopwords_set)[:10])"
   ]
  },
  {
   "cell_type": "code",
   "execution_count": 13,
   "id": "e3fc31ba-ee84-4268-9f7c-f15fe7169151",
   "metadata": {},
   "outputs": [],
   "source": [
    "def tokenize(sentence: str) -> List[str]:\n",
    "    \"\"\" Tokenize a sentence into tokens (words)\n",
    "    Args:\n",
    "        sentence: clean sentence\n",
    "    Returns:\n",
    "        tokens\n",
    "    \"\"\"\n",
    "    words = []\n",
    "    raw_words=sentence.lower().split(' ')\n",
    "    \n",
    "    for i in raw_words:\n",
    "        if i not in stopwords_set:  # excluding the stop words\n",
    "            words.append(stemmer.stem(i))   \n",
    "\n",
    "    return words"
   ]
  },
  {
   "cell_type": "code",
   "execution_count": 14,
   "id": "f1ea9a53-a8f5-4f46-b30e-5116714adcf0",
   "metadata": {},
   "outputs": [
    {
     "name": "stdout",
     "output_type": "stream",
     "text": [
      "\"Interest rates are trimmed to 7.5 by the South African central bank (https://www.xxx.xxx), but the lack of warning hits the rand and surprises markets.\"\n",
      "===>\n",
      "\"['interest', 'rate', 'trim', 'south', 'african', 'central', 'bank', 'lack', 'warn', 'hit', 'rand', 'surpris', 'market']\"\n"
     ]
    }
   ],
   "source": [
    "sentence = \"Interest rates are trimmed to 7.5 by the South African central bank (https://www.xxx.xxx), but the lack of warning hits the rand and surprises markets.\"\n",
    "\n",
    "processor = Preprocessor()\n",
    "clean_sentence = processor.apply(sentence)\n",
    "tokens = tokenize(clean_sentence)\n",
    "\n",
    "print(f'\"{sentence}\"') \n",
    "print('===>')\n",
    "print(f'\"{tokens}\"')"
   ]
  },
  {
   "cell_type": "markdown",
   "id": "7ccea260-2e4c-45e6-8d07-953452fd8c4b",
   "metadata": {},
   "source": [
    "\n",
    "\n",
    "TF-IDF:\n",
    "$$\\text{TF-IDF}(t, d) = \\frac{f_{t, d}}{\\sum_{t'}{f_{t', d}}} \\times \\log{\\frac{N}{n_t}}$$\n",
    "\n",
    "- $t$: A term\n",
    "- $d$: A document. Here, we regard a sentence as a document\n",
    "- $f_{t, d}$: Number of term $t$ in $d$\n",
    "- $N$: Number of document\n",
    "- $n_t$: Number of document containing $t$"
   ]
  },
  {
   "cell_type": "code",
   "execution_count": 43,
   "id": "fc82e419-05d8-4919-8b97-194b2933171a",
   "metadata": {},
   "outputs": [],
   "source": [
    "from collections import defaultdict\n",
    "\n",
    "\n",
    "class TfIdfEncoder:\n",
    "    def __init__(self):\n",
    "        self.vocab = defaultdict(int)\n",
    "        self.token2index = {}\n",
    "        self.df = defaultdict(int)\n",
    "        self.num_doc = 0\n",
    "        self.processor = Preprocessor()\n",
    "\n",
    "    def fit(self, sentences: Union[List[str], np.ndarray]) -> int:\n",
    "        \"\"\" Using the given texts to store key information in TF-IDF calculation\n",
    "            In this function, you are required to implement the fitting process.\n",
    "                1. Construct the vocabulary and store the frequency of tokens (self.vocab).\n",
    "                2. Construct the document frequency map to tokens (self.df).\n",
    "                3. Construct the token to index map based on the frequency.\n",
    "                   The token with a higher frequency has the smaller index\n",
    "        Args:\n",
    "            sentences: Raw sentences\n",
    "        Returns:\n",
    "            token_num\n",
    "        \"\"\"\n",
    "        self.num_doc = len(sentences)\n",
    "        for i, sentence in enumerate(sentences):\n",
    "            if i % 100 == 0 or i == len(sentences) - 1:\n",
    "                print_line('Fitting TF-IDF encoder:', (i + 1), '/', len(sentences))\n",
    "            \n",
    "            tokens = sentence.split()\n",
    "            for token in tokens:\n",
    "                if token in self.vocab:\n",
    "                    self.vocab[token] += 1\n",
    "                else:\n",
    "                    self.vocab[token] = 1\n",
    "            \n",
    "        print_line('\\n')\n",
    "    \n",
    "        for token in self.vocab:\n",
    "            self.df[token] = sum([1 for sentence in sentences if token in sentence])\n",
    "        \n",
    "        self.token2index = {token: i for i, (token, _) in enumerate(sorted(self.vocab.items(), key=lambda x: -x[1]))}\n",
    "        \n",
    "        token_num = len(self.token2index) \n",
    "        print('The number of distinct tokens:', token_num)\n",
    "        return token_num\n",
    "\n",
    "    def encode(self, sentences: Union[List[str], np.ndarray]) -> np.ndarray:\n",
    "        \"\"\" Encode the sentences into TF-IDF feature vector\n",
    "            Note: if a token in a sentence does not exist in the fit encoder, we just ignore it.\n",
    "        Args:\n",
    "            sentences: Raw sentences\n",
    "        Returns:\n",
    "            features: A (n x token_num) matrix, where n is the number of sentences\n",
    "        \"\"\"\n",
    "        n = len(sentences)\n",
    "        features = np.zeros((n, len(self.token2index)))\n",
    "        for i, sentence in enumerate(sentences):\n",
    "            if i % 100 == 0 or i == n - 1:\n",
    "                print_line('Encoding with TF-IDF encoder:', (i + 1), '/', n)\n",
    "            \n",
    "            tf = {}\n",
    "            tokens = sentence.split()\n",
    "            for token in tokens:\n",
    "                if token in tf:\n",
    "                    tf[token] += 1\n",
    "                else:\n",
    "                    tf[token] = 1\n",
    "            for token, tf_value in tf.items():\n",
    "                if token in self.token2index:\n",
    "                    tf_idf = (tf_value / len(tokens)) * np.log(self.num_doc / self.df[token])\n",
    "                    features[i, self.token2index[token]] = tf_idf\n",
    "            \n",
    "        print_line('\\n')\n",
    "        return features"
   ]
  },
  {
   "cell_type": "markdown",
   "id": "61755eeb-5d1c-4923-b58a-0e9409f4b4cd",
   "metadata": {},
   "source": [
    "##### Test your implementation by running the following cell."
   ]
  },
  {
   "cell_type": "code",
   "execution_count": 44,
   "id": "f1c1bd2b-4d06-46f2-97da-9ce53fb714ec",
   "metadata": {},
   "outputs": [
    {
     "name": "stdout",
     "output_type": "stream",
     "text": [
      "Fitting TF-IDF encoder: 100 / 100\n",
      "The number of distinct tokens: 764\n",
      "Encoding with TF-IDF encoder: 10 / 10\n",
      "[[0.         0.         0.         ... 0.         0.         0.        ]\n",
      " [0.         0.         0.17980161 ... 0.         0.         0.        ]\n",
      " [0.0061233  0.03992538 0.         ... 0.         0.         0.        ]\n",
      " [0.         0.06142367 0.         ... 0.         0.         0.        ]\n",
      " [0.00340183 0.06654231 0.         ... 0.         0.         0.        ]]\n"
     ]
    }
   ],
   "source": [
    "encoder = TfIdfEncoder()\n",
    "encoder.fit(train_sentences[:100])\n",
    "features = encoder.encode(train_sentences[:10])\n",
    "\n",
    "print(features[:5])"
   ]
  },
  {
   "cell_type": "markdown",
   "id": "1f6e3946-8032-474c-9643-74ee3c5fcdb9",
   "metadata": {},
   "source": [
    "#### Encode training, validation, and test dataset"
   ]
  },
  {
   "cell_type": "code",
   "execution_count": 45,
   "id": "85fd6854-727c-4cfd-bb66-e080f21dd909",
   "metadata": {},
   "outputs": [
    {
     "name": "stdout",
     "output_type": "stream",
     "text": [
      "Fitting TF-IDF encoder: 4014 / 4014\n",
      "The number of distinct tokens: 11210\n",
      "Encoding with TF-IDF encoder: 4014 / 4014\n",
      "Encoding with TF-IDF encoder: 446 / 446\n",
      "Encoding with TF-IDF encoder: 1114 / 1114\n",
      "The size of training set: (4014, 11210) (4014, 1)\n",
      "The size of validation set: (446, 11210) (446, 1)\n",
      "The size of test set: (1114, 11210) (1114, 1)\n"
     ]
    }
   ],
   "source": [
    "num_class = 2\n",
    "\n",
    "encoder = TfIdfEncoder()\n",
    "vocab_size = encoder.fit(train_sentences)\n",
    "\n",
    "x_train = encoder.encode(train_sentences)\n",
    "x_valid = encoder.encode(valid_sentences)\n",
    "x_test = encoder.encode(test_sentences)\n",
    "\n",
    "y_train = train_labels.reshape(-1, 1)\n",
    "y_valid = valid_labels.reshape(-1, 1)\n",
    "y_test = test_labels.reshape(-1, 1)\n",
    "\n",
    "print('The size of training set:', x_train.shape, y_train.shape)\n",
    "print('The size of validation set:', x_valid.shape, y_valid.shape)\n",
    "print('The size of test set:', x_test.shape, y_test.shape)"
   ]
  },
  {
   "cell_type": "code",
   "execution_count": 27,
   "id": "44537480-4186-488f-b4e7-89d211054717",
   "metadata": {},
   "outputs": [],
   "source": [
    "def sigmoid(x: np.ndarray) -> np.ndarray:\n",
    "    \"\"\" The sigmoid activation function\n",
    "    Args:\n",
    "        x: Input matrix or vector\n",
    "    Returns:\n",
    "        output: Sigmoid value of each entry in x\n",
    "    \"\"\"\n",
    "    # Start your code here    \n",
    "    x = 1 / (1 + np.exp(-x))\n",
    "    # End\n",
    "    return x"
   ]
  },
  {
   "cell_type": "code",
   "execution_count": 28,
   "id": "e8fefa08-6231-4fbf-869a-d07ebce350f8",
   "metadata": {},
   "outputs": [],
   "source": [
    "class LogisticRegression:\n",
    "    def __init__(self, feature_dim: int, lambda_: float):\n",
    "        \"\"\" Logistic Regression Model\n",
    "        Args:\n",
    "            feature_dim: feature dimension\n",
    "            lambda_: lambda in L2 regularizer\n",
    "        \"\"\"\n",
    "        self.w = np.random.normal(size=(feature_dim, 1))\n",
    "        self.b = 0\n",
    "    \n",
    "        self.lambda_ = lambda_\n",
    "        self.eps = 1e-9\n",
    "\n",
    "    def forward(self, x: np.ndarray) -> np.ndarray:\n",
    "        \"\"\" Forward process of logistic regression\n",
    "            Calculate y_hat using x\n",
    "        Args:\n",
    "            x: Input data\n",
    "        Returns:\n",
    "            y_hat: Output\n",
    "        \"\"\"\n",
    "        y_hat = 0\n",
    "        z = np.dot(x, self.w) + self.b\n",
    "        y_hat = sigmoid(z)        \n",
    "        return y_hat\n",
    "\n",
    "    def backward(self,\n",
    "                 x: np.ndarray,\n",
    "                 y_hat: np.ndarray,\n",
    "                 y: np.ndarray) -> Tuple[np.ndarray, Union[float, np.ndarray]]:\n",
    "        \"\"\" Backward process of logistic regression\n",
    "            Calculate the gradient of w and b\n",
    "        Args:\n",
    "            x: Input data\n",
    "            y_hat: Output of forward\n",
    "            y: Ground-truth\n",
    "        Returns:\n",
    "            w_grad: Gradient of w\n",
    "            b_grad: Gradient of b\n",
    "        \"\"\"\n",
    "        w_grad, b_grad = 0.0, 0.0\n",
    "        n = len(x)\n",
    "        w_grad = (1 / len(x)) * np.dot(x.T, (y_hat - y)) + 2 * self.lambda_ * self.w\n",
    "        b_grad = np.mean(y_hat - y)\n",
    "    \n",
    "        return w_grad, b_grad\n",
    "\n",
    "    def binary_cross_entropy_loss(self,\n",
    "                                  y_hat: np.ndarray,\n",
    "                                  y: np.ndarray) -> Union[float, np.ndarray]:\n",
    "        \"\"\" Calculate the binary cross-entropy loss\n",
    "        Args:\n",
    "            y_hat: Output of forward\n",
    "            y: Ground-truth\n",
    "        Returns:\n",
    "            loss: BCE loss\n",
    "        \"\"\"\n",
    "        y_hat = np.clip(y_hat, a_min=self.eps, a_max=1 - self.eps)\n",
    "        loss = 0\n",
    "        loss = np.mean(-(y * np.log(y_hat) + (1 - y) * np.log(1 - y_hat)))\n",
    "\n",
    "        return loss\n",
    "\n",
    "    def gradient_descent(self, w_grad: np.ndarray, b_grad: Union[np.ndarray, float], lr: float):\n",
    "        self.w -= lr * w_grad\n",
    "        self.b -= lr * b_grad\n",
    "\n",
    "    def predict(self, y_hat: np.ndarray) -> np.ndarray:\n",
    "        \"\"\" Predict the label using the output y_hat\n",
    "        Args:\n",
    "            y_hat: Model output\n",
    "        Returns:\n",
    "            pred: Prediction\n",
    "        \"\"\"\n",
    "        pred = np.round(y_hat)\n",
    "        return pred"
   ]
  },
  {
   "cell_type": "code",
   "execution_count": 29,
   "id": "5f627c34-e233-4313-82b3-d5285556209b",
   "metadata": {},
   "outputs": [],
   "source": [
    "def get_metrics(y_pred: np.ndarray, y_true: np.ndarray) -> Tuple[float, float, float, float]:\n",
    "    \"\"\" Calculate the accuracy, precision, recall, and f1 score.\n",
    "        You are only allowed to use numpy here.\n",
    "    Args:\n",
    "        y_pred: Prediction\n",
    "        y_true: Ground-truth\n",
    "    Returns:\n",
    "        accuracy, precision, recall, f1\n",
    "    \"\"\"\n",
    "    assert y_pred.shape == y_true.shape\n",
    "    accuracy, precision, recall, f1 = 0.0, 0.0, 0.0, 0.0\n",
    "    \n",
    "    tp = np.sum(np.logical_and(y_pred == 1, y_true == 1))\n",
    "    fp = np.sum(np.logical_and(y_pred == 1, y_true == 0))\n",
    "    fn = np.sum(np.logical_and(y_pred == 0, y_true == 1))\n",
    "    tn = np.sum(np.logical_and(y_pred == 0, y_true == 0))\n",
    "    accuracy = (tp + tn) / (tp + tn + fp + fn)\n",
    "    precision = tp / (tp + fp + 1e-9)\n",
    "    recall = tp / (tp + fn + 1e-9)\n",
    "    f1 = 2 * precision * recall / (precision + recall + 1e-9)    \n",
    "    \n",
    "    return accuracy, precision, recall, f1"
   ]
  },
  {
   "cell_type": "markdown",
   "id": "1794868a-0c46-4219-8d82-979c79e6fedb",
   "metadata": {},
   "source": [
    "### Stochastic Gradient Descent (SGD)"
   ]
  },
  {
   "cell_type": "code",
   "execution_count": 30,
   "id": "2f82a755-0b2d-412c-87ce-35b1bd2c3fed",
   "metadata": {},
   "outputs": [],
   "source": [
    "from collections import OrderedDict\n",
    "\n",
    "\n",
    "def train_sgd(model: 'LogisticRegression',\n",
    "              x_train: np.ndarray,\n",
    "              y_train: np.ndarray,\n",
    "              x_valid: np.ndarray,\n",
    "              y_valid: np.ndarray,\n",
    "              lr: float,\n",
    "              num_epoch: int,\n",
    "              print_every: int = 10) -> Tuple[dict[str, List], dict[str, List]]:\n",
    "    \"\"\" Training with Stochastic Gradient Descent\n",
    "    Args:\n",
    "        model: The logistic regression model\n",
    "        x_train: Training feature, (n x d) matrix\n",
    "        y_train: Training label, (n, ) vector\n",
    "        x_valid: Validation feature, (n x d) matrix\n",
    "        y_valid: Validation label, (n, ) vector\n",
    "        lr: Learning rate\n",
    "        num_epoch: Number of training epochs\n",
    "        print_every: Print log every {print_every} epochs\n",
    "    Returns:\n",
    "        train_history: Log of training information. The format of training history is\n",
    "                       { 'loss': [] }\n",
    "                       It records the average loss of each epoch.\n",
    "        valid_history: Log of validation information. The format of validation history is\n",
    "                       {\n",
    "                           'loss': [],\n",
    "                           'accuracy': [],\n",
    "                           'precision': [],\n",
    "                           'recall': [],\n",
    "                           'f1': []\n",
    "                       }\n",
    "    \"\"\"\n",
    "    train_history = OrderedDict({'loss': []})\n",
    "    valid_history = OrderedDict({\n",
    "        'loss': [],\n",
    "        'accuracy': [],\n",
    "        'precision': [],\n",
    "        'recall': [],\n",
    "        'f1': []\n",
    "    })\n",
    "\n",
    "    def format_output(epoch, num_epoch, train_history, valid_history):\n",
    "        epoch_log = f'Epoch {epoch + 1} / {num_epoch}'\n",
    "        train_log = ' - '.join([f'train_{key}: {val[-1]:.4f}' for key, val in train_history.items()])\n",
    "        valid_log = ' - '.join([f'valid_{key}: {val[-1]:.4f}' for key, val in valid_history.items()])\n",
    "        log = f'{epoch_log}: {train_log} - {valid_log}'\n",
    "        return log\n",
    "\n",
    "    train_num_samples = len(x_train)\n",
    "    for epoch in range(num_epoch):\n",
    "        epoch_loss = 0.0\n",
    "        \n",
    "        for i in range(train_num_samples):\n",
    "            \n",
    "            # Pick a random sample from the training set\n",
    "            \n",
    "            random_sample = np.random.choice(x_train.shape[0], 1, replace = False)\n",
    "            x, y = x_train[random_sample,:], y_train[random_sample,:]\n",
    "        \n",
    "            y_hat = model.forward(x)\n",
    "            \n",
    "            loss = model.binary_cross_entropy_loss(y_hat, y)\n",
    "            epoch_loss += loss\n",
    "            \n",
    "            w_grad, b_grad = model.backward(x, y_hat, y)\n",
    "            \n",
    "            model.gradient_descent(w_grad, b_grad, lr)\n",
    "        \n",
    "        valid_loss = 0.\n",
    "        accuracy, precision, recall, f1 = 0.0, 0.0, 0.0, 0.0\n",
    "    \n",
    "        y_hat = model.forward(x_valid)\n",
    "        pred_result = model.predict(y_hat)\n",
    "        \n",
    "        valid_loss = model.binary_cross_entropy_loss(pred_result, y_valid)\n",
    "        \n",
    "        accuracy, precision, recall, f1 = get_metrics(pred_result, y_valid)\n",
    "    \n",
    "        train_history['loss'].append(epoch_loss / train_num_samples)\n",
    "        for vals, val in zip(valid_history.values(), [valid_loss, accuracy, precision, recall, f1]):\n",
    "            vals.append(val)\n",
    "        log = format_output(epoch, num_epoch, train_history, valid_history)\n",
    "        if epoch % print_every == 0 or epoch == num_epoch - 1:\n",
    "            print(log)\n",
    "        else:\n",
    "            print_line(log)\n",
    "\n",
    "    return train_history, valid_history"
   ]
  },
  {
   "cell_type": "markdown",
   "id": "99cd9855-1ab5-42a2-acca-3554390db085",
   "metadata": {},
   "source": [
    "Run SGD"
   ]
  },
  {
   "cell_type": "code",
   "execution_count": 32,
   "id": "4a817e4d-7f0f-429a-84a6-03c1bdd50680",
   "metadata": {},
   "outputs": [
    {
     "name": "stdout",
     "output_type": "stream",
     "text": [
      "Epoch 1 / 100: train_loss: 0.5063 - valid_loss: 3.2525 - valid_accuracy: 0.8430 - valid_precision: 0.2174 - valid_recall: 0.0877 - valid_f1: 0.1250\n",
      "Epoch 11 / 100: train_loss: 0.1041 - valid_loss: 1.3010 - valid_accuracy: 0.9372 - valid_precision: 0.8372 - valid_recall: 0.6316 - valid_f1: 0.7200\n",
      "Epoch 21 / 100: train_loss: 0.0555 - valid_loss: 1.0687 - valid_accuracy: 0.9484 - valid_precision: 0.8696 - valid_recall: 0.7018 - valid_f1: 0.7767\n",
      "Epoch 31 / 100: train_loss: 0.0380 - valid_loss: 0.9758 - valid_accuracy: 0.9529 - valid_precision: 0.8750 - valid_recall: 0.7368 - valid_f1: 0.8000\n",
      "Epoch 41 / 100: train_loss: 0.0297 - valid_loss: 0.9293 - valid_accuracy: 0.9552 - valid_precision: 0.8936 - valid_recall: 0.7368 - valid_f1: 0.8077\n",
      "Epoch 51 / 100: train_loss: 0.0235 - valid_loss: 0.8828 - valid_accuracy: 0.9574 - valid_precision: 0.8958 - valid_recall: 0.7544 - valid_f1: 0.8190\n",
      "Epoch 61 / 100: train_loss: 0.0194 - valid_loss: 0.8364 - valid_accuracy: 0.9596 - valid_precision: 0.8980 - valid_recall: 0.7719 - valid_f1: 0.8302\n",
      "Epoch 71 / 100: train_loss: 0.0179 - valid_loss: 0.8364 - valid_accuracy: 0.9596 - valid_precision: 0.8824 - valid_recall: 0.7895 - valid_f1: 0.8333\n",
      "Epoch 81 / 100: train_loss: 0.0159 - valid_loss: 0.7899 - valid_accuracy: 0.9619 - valid_precision: 0.9000 - valid_recall: 0.7895 - valid_f1: 0.8411\n",
      "Epoch 91 / 100: train_loss: 0.0138 - valid_loss: 0.7899 - valid_accuracy: 0.9619 - valid_precision: 0.9000 - valid_recall: 0.7895 - valid_f1: 0.8411\n",
      "Epoch 100 / 100: train_loss: 0.0135 - valid_loss: 0.7899 - valid_accuracy: 0.9619 - valid_precision: 0.9000 - valid_recall: 0.7895 - valid_f1: 0.8411\n"
     ]
    }
   ],
   "source": [
    "np.random.seed(6666)\n",
    "\n",
    "num_epoch = 100\n",
    "lr = 1e-1\n",
    "lambda_ = 1e-7\n",
    "print_every = 10\n",
    "\n",
    "model_sgd = LogisticRegression(feature_dim=vocab_size, lambda_=lambda_)\n",
    "sgd_train_history, sgd_valid_history = train_sgd(model_sgd, x_train, y_train, x_valid, y_valid, lr, num_epoch, print_every)"
   ]
  },
  {
   "cell_type": "code",
   "execution_count": 33,
   "id": "958ee97d-7c88-4a23-8da5-c43fa36038e6",
   "metadata": {},
   "outputs": [],
   "source": [
    "def train_mbgd(model: 'LogisticRegression',\n",
    "               x_train: np.ndarray,\n",
    "               y_train: np.ndarray,\n",
    "               x_valid: np.ndarray,\n",
    "               y_valid: np.ndarray,\n",
    "               lr: float,\n",
    "               num_epoch: int,\n",
    "               batch_size: int,\n",
    "               print_every: int = 10) -> Tuple[dict[str, List], dict[str, List]]:\n",
    "    \"\"\" Training with Stochastic Gradient Descent\n",
    "    Args:\n",
    "        model: The logistic regression model\n",
    "        x_train: Training feature, (n x d) matrix\n",
    "        y_train: Training label, (n, ) vector\n",
    "        x_valid: Validation feature, (n x d) matrix\n",
    "        y_valid: Validation label, (n, ) vector\n",
    "        lr: Learning rate\n",
    "        num_epoch: Number of training epochs\n",
    "        batch_size: Number of training samples in a batch\n",
    "        print_every: Print log every {print_every} epochs\n",
    "    Returns:\n",
    "        train_history: Log of training information. The format of training history is\n",
    "                       { 'loss': [] }\n",
    "                       It records the average loss of each epoch.\n",
    "        valid_history: Log of validation information. The format of training and validation history is\n",
    "                       {\n",
    "                           'loss': [],\n",
    "                           'accuracy': [],\n",
    "                           'precision': [],\n",
    "                           'recall': [],\n",
    "                           'f1': []\n",
    "                       }\n",
    "    \"\"\"\n",
    "    train_history = OrderedDict({'loss': []})\n",
    "    valid_history = OrderedDict({\n",
    "        'loss': [],\n",
    "        'accuracy': [],\n",
    "        'precision': [],\n",
    "        'recall': [],\n",
    "        'f1': []\n",
    "    })\n",
    "\n",
    "    def format_output(epoch, num_epoch, train_history, valid_history):\n",
    "        epoch_log = f'Epoch {epoch + 1} / {num_epoch}'\n",
    "        train_log = ' - '.join([f'train_{key}: {val[-1]:.4f}' for key, val in train_history.items()])\n",
    "        valid_log = ' - '.join([f'valid_{key}: {val[-1]:.4f}' for key, val in valid_history.items()])\n",
    "        log = f'{epoch_log}: {train_log} - {valid_log}'\n",
    "        return log\n",
    "\n",
    "    train_num_samples = len(x_train)\n",
    "    n_batch = train_num_samples // batch_size\n",
    "    for epoch in range(num_epoch):\n",
    "        epoch_loss = 0.0  \n",
    "        \n",
    "        for i in range(n_batch):\n",
    "            batch_x = x_train[i*batch_size : (i+1)*batch_size]\n",
    "            batch_y = y_train[i*batch_size : (i+1)*batch_size]\n",
    "            model_output = model.forward(batch_x)\n",
    "            loss = model.binary_cross_entropy_loss(model_output, batch_y)\n",
    "            epoch_loss += loss\n",
    "            w_grad, b_grad = model.backward(batch_x, model_output, batch_y)\n",
    "            model.gradient_descent(w_grad, b_grad, lr)\n",
    "                    \n",
    "        valid_loss = 0.\n",
    "        accuracy, precision, recall, f1 = 0.0, 0.0, 0.0, 0.0\n",
    "     \n",
    "        y_hat = model.forward(x_valid)\n",
    "        pred_result = model.predict(y_hat)\n",
    "        \n",
    "        valid_loss = model.binary_cross_entropy_loss(pred_result, y_valid)\n",
    "        \n",
    "        accuracy, precision, recall, f1 = get_metrics(pred_result, y_valid)\n",
    "    \n",
    "        valid_history['loss'].append(valid_loss)\n",
    "        valid_history['accuracy'].append(accuracy)\n",
    "        valid_history['precision'].append(precision)\n",
    "        valid_history['recall'].append(recall)\n",
    "        valid_history['f1'].append(f1)\n",
    "        \n",
    "        train_history['loss'].append(epoch_loss / train_num_samples)\n",
    "        for vals, val in zip(valid_history.values(), [valid_loss, accuracy, precision, recall, f1]):\n",
    "            vals.append(val)\n",
    "        log = format_output(epoch, num_epoch, train_history, valid_history)\n",
    "        if epoch % print_every == 0 or epoch == num_epoch - 1:\n",
    "            print(log)\n",
    "        else:\n",
    "            print_line(log)\n",
    "\n",
    "    return train_history, valid_history"
   ]
  },
  {
   "cell_type": "markdown",
   "id": "5f9273e6-eda3-4a16-8779-810bdc55cf33",
   "metadata": {},
   "source": [
    "Run Mini-batch Gradient Descent"
   ]
  },
  {
   "cell_type": "code",
   "execution_count": 34,
   "id": "49874274-247f-43c5-973c-5d8917869b08",
   "metadata": {},
   "outputs": [
    {
     "name": "stdout",
     "output_type": "stream",
     "text": [
      "Epoch 1 / 100: train_loss: 0.1415 - valid_loss: 2.9737 - valid_accuracy: 0.8565 - valid_precision: 0.1111 - valid_recall: 0.0175 - valid_f1: 0.0303\n",
      "Epoch 11 / 100: train_loss: 0.0702 - valid_loss: 2.5091 - valid_accuracy: 0.8789 - valid_precision: 0.6000 - valid_recall: 0.1579 - valid_f1: 0.2500\n",
      "Epoch 21 / 100: train_loss: 0.0439 - valid_loss: 1.7192 - valid_accuracy: 0.9170 - valid_precision: 0.8333 - valid_recall: 0.4386 - valid_f1: 0.5747\n",
      "Epoch 31 / 100: train_loss: 0.0320 - valid_loss: 1.3010 - valid_accuracy: 0.9372 - valid_precision: 0.8919 - valid_recall: 0.5789 - valid_f1: 0.7021\n",
      "Epoch 41 / 100: train_loss: 0.0254 - valid_loss: 1.2081 - valid_accuracy: 0.9417 - valid_precision: 0.8780 - valid_recall: 0.6316 - valid_f1: 0.7347\n",
      "Epoch 51 / 100: train_loss: 0.0211 - valid_loss: 1.1616 - valid_accuracy: 0.9439 - valid_precision: 0.8810 - valid_recall: 0.6491 - valid_f1: 0.7475\n",
      "Epoch 61 / 100: train_loss: 0.0181 - valid_loss: 1.1616 - valid_accuracy: 0.9439 - valid_precision: 0.8636 - valid_recall: 0.6667 - valid_f1: 0.7525\n",
      "Epoch 71 / 100: train_loss: 0.0158 - valid_loss: 1.1152 - valid_accuracy: 0.9462 - valid_precision: 0.8837 - valid_recall: 0.6667 - valid_f1: 0.7600\n",
      "Epoch 81 / 100: train_loss: 0.0141 - valid_loss: 1.0222 - valid_accuracy: 0.9507 - valid_precision: 0.8889 - valid_recall: 0.7018 - valid_f1: 0.7843\n",
      "Epoch 91 / 100: train_loss: 0.0127 - valid_loss: 1.0222 - valid_accuracy: 0.9507 - valid_precision: 0.8889 - valid_recall: 0.7018 - valid_f1: 0.7843\n",
      "Epoch 100 / 100: train_loss: 0.0117 - valid_loss: 1.0222 - valid_accuracy: 0.9507 - valid_precision: 0.8889 - valid_recall: 0.7018 - valid_f1: 0.7843\n"
     ]
    }
   ],
   "source": [
    "np.random.seed(6666)\n",
    "\n",
    "num_epoch = 100\n",
    "lr = 1e-1\n",
    "batch_size = 4\n",
    "lambda_ = 1e-7\n",
    "print_every = 10\n",
    "\n",
    "model_mbgd = LogisticRegression(feature_dim=vocab_size, lambda_=lambda_)\n",
    "mbgd_train_history, mbgd_valid_history = train_mbgd(model_mbgd, x_train, y_train, x_valid, y_valid, lr, num_epoch, batch_size, print_every)"
   ]
  },
  {
   "cell_type": "code",
   "execution_count": 35,
   "id": "eb577c9f-97b6-4984-8264-7aa811fec827",
   "metadata": {},
   "outputs": [
    {
     "name": "stdout",
     "output_type": "stream",
     "text": [
      "Metrics for the SGD model: \n",
      "Accuracy: 0.97\n",
      "Precision: 0.93\n",
      "Recall: 0.86\n",
      "F1: 0.89\n",
      "\n",
      "Metrics for the Mini-batch GD model: \n",
      "Accuracy: 0.96\n",
      "Precision: 0.93\n",
      "Recall: 0.79\n",
      "F1: 0.85\n"
     ]
    }
   ],
   "source": [
    "\n",
    "y_hat = model_sgd.forward(x_test)\n",
    "pred_final = model_sgd.predict(y_hat)\n",
    "accuracy, precision, recall, f1 = get_metrics(pred_final, y_test)\n",
    "\n",
    "print('Metrics for the SGD model: ')\n",
    "print('Accuracy: %.2f' % accuracy)\n",
    "print('Precision: %.2f' % precision)\n",
    "print('Recall: %.2f' % recall)\n",
    "print('F1: %.2f' % f1)\n",
    "\n",
    "\n",
    "# Mini-batch GD\n",
    "\n",
    "y_hat = model_mbgd.forward(x_test)\n",
    "pred_final = model_mbgd.predict(y_hat)\n",
    "accuracy, precision, recall, f1 = get_metrics(pred_final, y_test)\n",
    "print('')\n",
    "\n",
    "print('Metrics for the Mini-batch GD model: ')\n",
    "print('Accuracy: %.2f' % accuracy)\n",
    "print('Precision: %.2f' % precision)\n",
    "print('Recall: %.2f' % recall)\n",
    "print('F1: %.2f' % f1)\n"
   ]
  },
  {
   "cell_type": "markdown",
   "id": "436dfacd-2ad2-41fa-8f23-f4cc86142fe0",
   "metadata": {},
   "source": [
    "#### Evaluation Metrics on Test set\n",
    "\n",
    "\n",
    "|     Optimizer     | Accuracy    | Precision   | Recall      | F1 Score    |\n",
    "|:-----------------:|-------------|-------------|-------------|-------------|\n",
    "|      **SGD**      | 0.97        |    0.93     |  0.86       | 0.89        |\n",
    "| **Mini-batch GD** | 0.96        |    0.93     |  0.79       | 0.85        |"
   ]
  },
  {
   "cell_type": "markdown",
   "id": "0fbbb31b-5452-4788-87fc-5d5c7eab144a",
   "metadata": {},
   "source": [
    "##### Plotting the training loss curve for SGD and Mini-batch GD"
   ]
  },
  {
   "cell_type": "code",
   "execution_count": 46,
   "id": "02501623-a585-426f-8e65-fb14704eb13c",
   "metadata": {},
   "outputs": [
    {
     "data": {
      "image/png": "[encoded data removed]",
      "text/plain": [
       "<Figure size 400x300 with 1 Axes>"
      ]
     },
     "metadata": {},
     "output_type": "display_data"
    }
   ],
   "source": [
    "import matplotlib.pyplot as plt\n",
    "\n",
    "%matplotlib inline\n",
    "\n",
    "fig = plt.figure(figsize=(4, 3))\n",
    "plt.plot(sgd_train_history['loss'], label='SGD')\n",
    "plt.plot(mbgd_train_history['loss'], label='Mini-batch GD')\n",
    "plt.xlabel('Epoch')\n",
    "plt.ylabel('Loss')\n",
    "plt.legend()\n",
    "plt.title('Training Loss')\n",
    "plt.show()"
   ]
  },
  {
   "cell_type": "markdown",
   "id": "1b8c5a95-45ab-49d6-b570-25534d15b3b2",
   "metadata": {},
   "source": [
    "##### Please run the following cell to plot the validation metrics curve for SGD and Mini-batch GD"
   ]
  },
  {
   "cell_type": "code",
   "execution_count": 47,
   "id": "100f123d-2796-4e48-b204-912bad8c13e6",
   "metadata": {},
   "outputs": [
    {
     "data": {
      "image/png": "[encoded data removed]",
      "text/plain": [
       "<Figure size 2000x300 with 5 Axes>"
      ]
     },
     "metadata": {},
     "output_type": "display_data"
    }
   ],
   "source": [
    "fig, axes = plt.subplots(1, 5, figsize=(20, 3))\n",
    "for i, key in enumerate(sgd_valid_history.keys()):\n",
    "    sgd_vals, mbgd_vals = sgd_valid_history[key], mbgd_valid_history[key]\n",
    "    ax = axes[i]\n",
    "    ax.plot(sgd_vals, label='SGD')\n",
    "    ax.plot(mbgd_vals, label='Mini-batch GD')\n",
    "    ax.legend()\n",
    "    ax.set_xlabel('Epoch')\n",
    "    ax.set_title('Validation ' + key.capitalize())\n",
    "plt.show()"
   ]
  },
  {
   "cell_type": "code",
   "execution_count": 49,
   "id": "034b69cf-4758-41cf-845e-3d1bc811467a",
   "metadata": {},
   "outputs": [],
   "source": [
    "lambdas = [1, 1e-1, 1e-2, 1e-3, 1e-4, 1e-5, 1e-6, 1e-7, 0.0]"
   ]
  },
  {
   "cell_type": "code",
   "execution_count": 50,
   "id": "db0ffd1b-6413-4840-b935-bea0749063af",
   "metadata": {},
   "outputs": [
    {
     "name": "stdout",
     "output_type": "stream",
     "text": [
      "lambda_value :  1\n",
      "Epoch 1 / 100: train_loss: 0.1002 - valid_loss: 2.6485 - valid_accuracy: 0.8722 - valid_precision: 0.0000 - valid_recall: 0.0000 - valid_f1: 0.0000\n",
      "Epoch 100 / 100: train_loss: 0.0978 - valid_loss: 2.6485 - valid_accuracy: 0.8722 - valid_precision: 0.0000 - valid_recall: 0.0000 - valid_f1: 0.0000\n",
      "lambda_value :  0.1\n",
      "Epoch 1 / 100: train_loss: 0.1011 - valid_loss: 2.6485 - valid_accuracy: 0.8722 - valid_precision: 0.0000 - valid_recall: 0.0000 - valid_f1: 0.0000\n",
      "Epoch 100 / 100: train_loss: 0.0976 - valid_loss: 2.6485 - valid_accuracy: 0.8722 - valid_precision: 0.0000 - valid_recall: 0.0000 - valid_f1: 0.0000\n",
      "lambda_value :  0.01\n",
      "Epoch 1 / 100: train_loss: 0.1076 - valid_loss: 2.6485 - valid_accuracy: 0.8722 - valid_precision: 0.0000 - valid_recall: 0.0000 - valid_f1: 0.0000\n",
      "Epoch 100 / 100: train_loss: 0.0946 - valid_loss: 2.6485 - valid_accuracy: 0.8722 - valid_precision: 0.0000 - valid_recall: 0.0000 - valid_f1: 0.0000\n",
      "lambda_value :  0.001\n",
      "Epoch 1 / 100: train_loss: 0.1275 - valid_loss: 2.9273 - valid_accuracy: 0.8587 - valid_precision: 0.0000 - valid_recall: 0.0000 - valid_f1: 0.0000\n",
      "Epoch 100 / 100: train_loss: 0.0712 - valid_loss: 2.6485 - valid_accuracy: 0.8722 - valid_precision: 0.0000 - valid_recall: 0.0000 - valid_f1: 0.0000\n",
      "lambda_value :  0.0001\n",
      "Epoch 1 / 100: train_loss: 0.1257 - valid_loss: 2.8808 - valid_accuracy: 0.8610 - valid_precision: 0.1429 - valid_recall: 0.0175 - valid_f1: 0.0312\n",
      "Epoch 100 / 100: train_loss: 0.0275 - valid_loss: 1.0687 - valid_accuracy: 0.9484 - valid_precision: 1.0000 - valid_recall: 0.5965 - valid_f1: 0.7473\n",
      "lambda_value :  1e-05\n",
      "Epoch 1 / 100: train_loss: 0.1339 - valid_loss: 3.1131 - valid_accuracy: 0.8498 - valid_precision: 0.0833 - valid_recall: 0.0175 - valid_f1: 0.0290\n",
      "Epoch 100 / 100: train_loss: 0.0129 - valid_loss: 0.8364 - valid_accuracy: 0.9596 - valid_precision: 0.9756 - valid_recall: 0.7018 - valid_f1: 0.8163\n",
      "lambda_value :  1e-06\n",
      "Epoch 1 / 100: train_loss: 0.1298 - valid_loss: 2.9273 - valid_accuracy: 0.8587 - valid_precision: 0.1250 - valid_recall: 0.0175 - valid_f1: 0.0308\n",
      "Epoch 100 / 100: train_loss: 0.0119 - valid_loss: 0.6505 - valid_accuracy: 0.9686 - valid_precision: 1.0000 - valid_recall: 0.7544 - valid_f1: 0.8600\n",
      "lambda_value :  1e-07\n",
      "Epoch 1 / 100: train_loss: 0.1320 - valid_loss: 3.2525 - valid_accuracy: 0.8430 - valid_precision: 0.0000 - valid_recall: 0.0000 - valid_f1: 0.0000\n",
      "Epoch 100 / 100: train_loss: 0.0116 - valid_loss: 0.9293 - valid_accuracy: 0.9552 - valid_precision: 0.9512 - valid_recall: 0.6842 - valid_f1: 0.7959\n",
      "lambda_value :  0.0\n",
      "Epoch 1 / 100: train_loss: 0.1288 - valid_loss: 3.0667 - valid_accuracy: 0.8520 - valid_precision: 0.0909 - valid_recall: 0.0175 - valid_f1: 0.0294\n",
      "Epoch 100 / 100: train_loss: 0.0116 - valid_loss: 0.8364 - valid_accuracy: 0.9596 - valid_precision: 0.9333 - valid_recall: 0.7368 - valid_f1: 0.8235\n",
      "1e-06\n"
     ]
    }
   ],
   "source": [
    "best_lambda = 0.0\n",
    "best_f1 = 0.0\n",
    "\n",
    "num_epoch = 100\n",
    "lr = 1e-1\n",
    "batch_size = 4\n",
    "print_every = 100\n",
    "np.random.seed(6666)\n",
    "\n",
    "for i in lambdas:\n",
    "    \n",
    "    print('lambda_value : ', i)\n",
    "    \n",
    "    model = LogisticRegression(feature_dim=vocab_size, lambda_= i)\n",
    "    train_history, valid_history = train_mbgd(model, x_train, y_train, x_valid, y_valid, \n",
    "                                                lr, num_epoch, batch_size, print_every)\n",
    "    f1 = valid_history['f1'][-1]\n",
    "    if f1 > best_f1:\n",
    "        best_f1 = f1\n",
    "        best_lambda = i\n",
    "print(best_lambda)"
   ]
  },
  {
   "cell_type": "code",
   "execution_count": null,
   "id": "ee90b403",
   "metadata": {},
   "outputs": [],
   "source": []
  },
  {
   "cell_type": "code",
   "execution_count": null,
   "id": "40d97183",
   "metadata": {},
   "outputs": [],
   "source": []
  }
 ],
 "metadata": {
  "kernelspec": {
   "display_name": "gpu2",
   "language": "python",
   "name": "gpu2"
  },
  "language_info": {
   "codemirror_mode": {
    "name": "ipython",
    "version": 3
   },
   "file_extension": ".py",
   "mimetype": "text/x-python",
   "name": "python",
   "nbconvert_exporter": "python",
   "pygments_lexer": "ipython3",
   "version": "3.9.13"
  }
 },
 "nbformat": 4,
 "nbformat_minor": 5
}
