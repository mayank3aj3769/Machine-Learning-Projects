{
 "cells": [
  {
   "cell_type": "markdown",
   "id": "a7d7050b-a87a-4954-adf9-afb9cf6d058a",
   "metadata": {},
   "source": [
    "# CS 584 Assignment 2 -- MLP and Word Vectors\n",
    "\n",
    "#### Name: Mayank Raj\n",
    "#### Stevens ID: 20010945"
   ]
  },
  {
   "cell_type": "markdown",
   "id": "bfe7ac70-1da0-4432-839d-6d65ce4edf35",
   "metadata": {},
   "source": [
    "## Part B: Word2Vec (50 Points)\n",
    "\n",
    "## In this assignment, you are required to follow the steps below:\n",
    "1. Review the lecture slides.\n",
    "2. Implement the data loading, preprocessing, tokenization, and word pair extraction.\n",
    "3. Implement skip-gram and evaluation metrics with MLP.\n",
    "5. Analysis the results in the Conlusion part.\n",
    "\n",
    "**Before you start**\n",
    "- Please read the code very carefully.\n",
    "- Install these packages (jupyterlab, matplotlib, nltk, numpy, scikit-learn, tensorflow, tensorflow_addons) using the following command.\n",
    "```console\n",
    "pip install -r requirements.txt\n",
    "```\n",
    "- It's better to train the Tensorflow model with GPU and CUDA. If they are not available on your local machine, please consider Google CoLab. You can check `CoLab.md` in this assignments.\n",
    "- You are **NOT** allowed to use other packages unless otherwise specified.\n",
    "- You are **ONLY** allowed to edit the code between `# Start your code here` and `# End` for each block."
   ]
  },
  {
   "cell_type": "code",
   "execution_count": 1,
   "id": "b95a75c8-30c8-4ca6-ac9d-42c90d32b04d",
   "metadata": {},
   "outputs": [
    {
     "name": "stdout",
     "output_type": "stream",
     "text": [
      "Requirement already satisfied: jupyterlab in c:\\users\\lenovo\\.conda\\envs\\gputf\\lib\\site-packages (from -r requirements.txt (line 1)) (3.5.0)\n",
      "Requirement already satisfied: matplotlib in c:\\users\\lenovo\\.conda\\envs\\gputf\\lib\\site-packages (from -r requirements.txt (line 2)) (3.6.0)\n",
      "Requirement already satisfied: nltk in c:\\users\\lenovo\\.conda\\envs\\gputf\\lib\\site-packages (from -r requirements.txt (line 3)) (3.8)\n",
      "Requirement already satisfied: numpy in c:\\users\\lenovo\\.conda\\envs\\gputf\\lib\\site-packages (from -r requirements.txt (line 4)) (1.23.3)\n",
      "Requirement already satisfied: scikit-learn in c:\\users\\lenovo\\.conda\\envs\\gputf\\lib\\site-packages (from -r requirements.txt (line 5)) (1.1.2)\n",
      "Requirement already satisfied: tensorflow in c:\\users\\lenovo\\appdata\\roaming\\python\\python39\\site-packages (from -r requirements.txt (line 6)) (2.10.0)\n",
      "Requirement already satisfied: tensorflow_addons in c:\\users\\lenovo\\.conda\\envs\\gputf\\lib\\site-packages (from -r requirements.txt (line 7)) (0.19.0)\n",
      "Requirement already satisfied: nbclassic in c:\\users\\lenovo\\.conda\\envs\\gputf\\lib\\site-packages (from jupyterlab->-r requirements.txt (line 1)) (0.4.8)\n",
      "Requirement already satisfied: jupyter-core in c:\\users\\lenovo\\.conda\\envs\\gputf\\lib\\site-packages (from jupyterlab->-r requirements.txt (line 1)) (4.11.1)\n",
      "Requirement already satisfied: tomli in c:\\users\\lenovo\\.conda\\envs\\gputf\\lib\\site-packages (from jupyterlab->-r requirements.txt (line 1)) (2.0.1)\n",
      "Requirement already satisfied: ipython in c:\\users\\lenovo\\.conda\\envs\\gputf\\lib\\site-packages (from jupyterlab->-r requirements.txt (line 1)) (8.4.0)\n",
      "Requirement already satisfied: jupyterlab-server~=2.10 in c:\\users\\lenovo\\.conda\\envs\\gputf\\lib\\site-packages (from jupyterlab->-r requirements.txt (line 1)) (2.16.3)\n",
      "Requirement already satisfied: packaging in c:\\users\\lenovo\\.conda\\envs\\gputf\\lib\\site-packages (from jupyterlab->-r requirements.txt (line 1)) (21.3)\n",
      "Requirement already satisfied: tornado>=6.1.0 in c:\\users\\lenovo\\.conda\\envs\\gputf\\lib\\site-packages (from jupyterlab->-r requirements.txt (line 1)) (6.2)\n",
      "Requirement already satisfied: jupyter-server<3,>=1.16.0 in c:\\users\\lenovo\\.conda\\envs\\gputf\\lib\\site-packages (from jupyterlab->-r requirements.txt (line 1)) (1.18.1)\n",
      "Requirement already satisfied: jinja2>=2.1 in c:\\users\\lenovo\\.conda\\envs\\gputf\\lib\\site-packages (from jupyterlab->-r requirements.txt (line 1)) (3.0.3)\n",
      "Requirement already satisfied: notebook<7 in c:\\users\\lenovo\\.conda\\envs\\gputf\\lib\\site-packages (from jupyterlab->-r requirements.txt (line 1)) (6.4.12)\n",
      "Requirement already satisfied: fonttools>=4.22.0 in c:\\users\\lenovo\\.conda\\envs\\gputf\\lib\\site-packages (from matplotlib->-r requirements.txt (line 2)) (4.37.4)\n",
      "Requirement already satisfied: contourpy>=1.0.1 in c:\\users\\lenovo\\.conda\\envs\\gputf\\lib\\site-packages (from matplotlib->-r requirements.txt (line 2)) (1.0.5)\n",
      "Requirement already satisfied: python-dateutil>=2.7 in c:\\users\\lenovo\\.conda\\envs\\gputf\\lib\\site-packages (from matplotlib->-r requirements.txt (line 2)) (2.8.2)\n",
      "Requirement already satisfied: kiwisolver>=1.0.1 in c:\\users\\lenovo\\.conda\\envs\\gputf\\lib\\site-packages (from matplotlib->-r requirements.txt (line 2)) (1.4.4)\n",
      "Requirement already satisfied: pyparsing>=2.2.1 in c:\\users\\lenovo\\.conda\\envs\\gputf\\lib\\site-packages (from matplotlib->-r requirements.txt (line 2)) (3.0.9)\n",
      "Requirement already satisfied: cycler>=0.10 in c:\\users\\lenovo\\.conda\\envs\\gputf\\lib\\site-packages (from matplotlib->-r requirements.txt (line 2)) (0.11.0)\n",
      "Requirement already satisfied: pillow>=6.2.0 in c:\\users\\lenovo\\.conda\\envs\\gputf\\lib\\site-packages (from matplotlib->-r requirements.txt (line 2)) (9.2.0)\n",
      "Requirement already satisfied: regex>=2021.8.3 in c:\\users\\lenovo\\.conda\\envs\\gputf\\lib\\site-packages (from nltk->-r requirements.txt (line 3)) (2022.7.9)\n",
      "Requirement already satisfied: click in c:\\users\\lenovo\\.conda\\envs\\gputf\\lib\\site-packages (from nltk->-r requirements.txt (line 3)) (8.0.4)\n",
      "Requirement already satisfied: tqdm in c:\\users\\lenovo\\.conda\\envs\\gputf\\lib\\site-packages (from nltk->-r requirements.txt (line 3)) (4.64.1)\n",
      "Requirement already satisfied: joblib in c:\\users\\lenovo\\.conda\\envs\\gputf\\lib\\site-packages (from nltk->-r requirements.txt (line 3)) (1.2.0)\n",
      "Requirement already satisfied: scipy>=1.3.2 in c:\\users\\lenovo\\.conda\\envs\\gputf\\lib\\site-packages (from scikit-learn->-r requirements.txt (line 5)) (1.9.1)\n",
      "Requirement already satisfied: threadpoolctl>=2.0.0 in c:\\users\\lenovo\\.conda\\envs\\gputf\\lib\\site-packages (from scikit-learn->-r requirements.txt (line 5)) (3.1.0)\n",
      "Requirement already satisfied: keras<2.11,>=2.10.0 in c:\\users\\lenovo\\appdata\\roaming\\python\\python39\\site-packages (from tensorflow->-r requirements.txt (line 6)) (2.10.0)\n",
      "Requirement already satisfied: typing-extensions>=3.6.6 in c:\\users\\lenovo\\.conda\\envs\\gputf\\lib\\site-packages (from tensorflow->-r requirements.txt (line 6)) (4.3.0)\n",
      "Requirement already satisfied: tensorflow-io-gcs-filesystem>=0.23.1 in c:\\users\\lenovo\\appdata\\roaming\\python\\python39\\site-packages (from tensorflow->-r requirements.txt (line 6)) (0.27.0)\n",
      "Requirement already satisfied: termcolor>=1.1.0 in c:\\users\\lenovo\\.conda\\envs\\gputf\\lib\\site-packages (from tensorflow->-r requirements.txt (line 6)) (1.1.0)\n",
      "Requirement already satisfied: tensorflow-estimator<2.11,>=2.10.0 in c:\\users\\lenovo\\appdata\\roaming\\python\\python39\\site-packages (from tensorflow->-r requirements.txt (line 6)) (2.10.0)\n",
      "Requirement already satisfied: wrapt>=1.11.0 in c:\\users\\lenovo\\.conda\\envs\\gputf\\lib\\site-packages (from tensorflow->-r requirements.txt (line 6)) (1.14.1)\n",
      "Requirement already satisfied: astunparse>=1.6.0 in c:\\users\\lenovo\\appdata\\roaming\\python\\python39\\site-packages (from tensorflow->-r requirements.txt (line 6)) (1.6.3)\n",
      "Requirement already satisfied: flatbuffers>=2.0 in c:\\users\\lenovo\\.conda\\envs\\gputf\\lib\\site-packages (from tensorflow->-r requirements.txt (line 6)) (20210226132247)\n",
      "Requirement already satisfied: absl-py>=1.0.0 in c:\\users\\lenovo\\.conda\\envs\\gputf\\lib\\site-packages (from tensorflow->-r requirements.txt (line 6)) (1.4.0)\n",
      "Requirement already satisfied: six>=1.12.0 in c:\\users\\lenovo\\.conda\\envs\\gputf\\lib\\site-packages (from tensorflow->-r requirements.txt (line 6)) (1.16.0)\n",
      "Requirement already satisfied: tensorboard<2.11,>=2.10 in c:\\users\\lenovo\\appdata\\roaming\\python\\python39\\site-packages (from tensorflow->-r requirements.txt (line 6)) (2.10.1)\n",
      "Requirement already satisfied: gast<=0.4.0,>=0.2.1 in c:\\users\\lenovo\\appdata\\roaming\\python\\python39\\site-packages (from tensorflow->-r requirements.txt (line 6)) (0.4.0)\n",
      "Requirement already satisfied: grpcio<2.0,>=1.24.3 in c:\\users\\lenovo\\.conda\\envs\\gputf\\lib\\site-packages (from tensorflow->-r requirements.txt (line 6)) (1.42.0)\n",
      "Requirement already satisfied: setuptools in c:\\users\\lenovo\\.conda\\envs\\gputf\\lib\\site-packages (from tensorflow->-r requirements.txt (line 6)) (63.4.1)\n",
      "Requirement already satisfied: google-pasta>=0.1.1 in c:\\users\\lenovo\\appdata\\roaming\\python\\python39\\site-packages (from tensorflow->-r requirements.txt (line 6)) (0.2.0)\n",
      "Requirement already satisfied: protobuf<3.20,>=3.9.2 in c:\\users\\lenovo\\.conda\\envs\\gputf\\lib\\site-packages (from tensorflow->-r requirements.txt (line 6)) (3.17.2)\n",
      "Requirement already satisfied: opt-einsum>=2.3.2 in c:\\users\\lenovo\\appdata\\roaming\\python\\python39\\site-packages (from tensorflow->-r requirements.txt (line 6)) (3.3.0)\n",
      "Requirement already satisfied: h5py>=2.9.0 in c:\\users\\lenovo\\.conda\\envs\\gputf\\lib\\site-packages (from tensorflow->-r requirements.txt (line 6)) (3.7.0)\n",
      "Requirement already satisfied: keras-preprocessing>=1.1.1 in c:\\users\\lenovo\\appdata\\roaming\\python\\python39\\site-packages (from tensorflow->-r requirements.txt (line 6)) (1.1.2)\n",
      "Requirement already satisfied: libclang>=13.0.0 in c:\\users\\lenovo\\appdata\\roaming\\python\\python39\\site-packages (from tensorflow->-r requirements.txt (line 6)) (14.0.6)\n",
      "Requirement already satisfied: typeguard>=2.7 in c:\\users\\lenovo\\.conda\\envs\\gputf\\lib\\site-packages (from tensorflow_addons->-r requirements.txt (line 7)) (2.13.3)\n",
      "Requirement already satisfied: wheel<1.0,>=0.23.0 in c:\\users\\lenovo\\.conda\\envs\\gputf\\lib\\site-packages (from astunparse>=1.6.0->tensorflow->-r requirements.txt (line 6)) (0.35.1)\n",
      "Requirement already satisfied: MarkupSafe>=2.0 in c:\\users\\lenovo\\.conda\\envs\\gputf\\lib\\site-packages (from jinja2>=2.1->jupyterlab->-r requirements.txt (line 1)) (2.1.1)\n",
      "Requirement already satisfied: argon2-cffi in c:\\users\\lenovo\\.conda\\envs\\gputf\\lib\\site-packages (from jupyter-server<3,>=1.16.0->jupyterlab->-r requirements.txt (line 1)) (21.3.0)\n",
      "Requirement already satisfied: terminado>=0.8.3 in c:\\users\\lenovo\\.conda\\envs\\gputf\\lib\\site-packages (from jupyter-server<3,>=1.16.0->jupyterlab->-r requirements.txt (line 1)) (0.13.1)\n",
      "Requirement already satisfied: pyzmq>=17 in c:\\users\\lenovo\\.conda\\envs\\gputf\\lib\\site-packages (from jupyter-server<3,>=1.16.0->jupyterlab->-r requirements.txt (line 1)) (23.2.0)\n",
      "Requirement already satisfied: prometheus-client in c:\\users\\lenovo\\.conda\\envs\\gputf\\lib\\site-packages (from jupyter-server<3,>=1.16.0->jupyterlab->-r requirements.txt (line 1)) (0.14.1)\n",
      "Requirement already satisfied: traitlets>=5.1 in c:\\users\\lenovo\\.conda\\envs\\gputf\\lib\\site-packages (from jupyter-server<3,>=1.16.0->jupyterlab->-r requirements.txt (line 1)) (5.1.1)\n",
      "Requirement already satisfied: Send2Trash in c:\\users\\lenovo\\.conda\\envs\\gputf\\lib\\site-packages (from jupyter-server<3,>=1.16.0->jupyterlab->-r requirements.txt (line 1)) (1.8.0)\n",
      "Requirement already satisfied: anyio<4,>=3.1.0 in c:\\users\\lenovo\\.conda\\envs\\gputf\\lib\\site-packages (from jupyter-server<3,>=1.16.0->jupyterlab->-r requirements.txt (line 1)) (3.5.0)\n",
      "Requirement already satisfied: nbconvert>=6.4.4 in c:\\users\\lenovo\\.conda\\envs\\gputf\\lib\\site-packages (from jupyter-server<3,>=1.16.0->jupyterlab->-r requirements.txt (line 1)) (6.4.4)\n",
      "Requirement already satisfied: nbformat>=5.2.0 in c:\\users\\lenovo\\.conda\\envs\\gputf\\lib\\site-packages (from jupyter-server<3,>=1.16.0->jupyterlab->-r requirements.txt (line 1)) (5.5.0)\n",
      "Requirement already satisfied: jupyter-client>=6.1.12 in c:\\users\\lenovo\\.conda\\envs\\gputf\\lib\\site-packages (from jupyter-server<3,>=1.16.0->jupyterlab->-r requirements.txt (line 1)) (7.3.5)\n",
      "Requirement already satisfied: websocket-client in c:\\users\\lenovo\\.conda\\envs\\gputf\\lib\\site-packages (from jupyter-server<3,>=1.16.0->jupyterlab->-r requirements.txt (line 1)) (0.58.0)\n",
      "Requirement already satisfied: pywinpty in c:\\users\\lenovo\\.conda\\envs\\gputf\\lib\\site-packages (from jupyter-server<3,>=1.16.0->jupyterlab->-r requirements.txt (line 1)) (2.0.2)\n",
      "Requirement already satisfied: pywin32>=1.0 in c:\\users\\lenovo\\.conda\\envs\\gputf\\lib\\site-packages (from jupyter-core->jupyterlab->-r requirements.txt (line 1)) (302)\n",
      "Requirement already satisfied: json5 in c:\\users\\lenovo\\.conda\\envs\\gputf\\lib\\site-packages (from jupyterlab-server~=2.10->jupyterlab->-r requirements.txt (line 1)) (0.9.6)\n",
      "Requirement already satisfied: requests in c:\\users\\lenovo\\.conda\\envs\\gputf\\lib\\site-packages (from jupyterlab-server~=2.10->jupyterlab->-r requirements.txt (line 1)) (2.28.1)\n",
      "Requirement already satisfied: babel in c:\\users\\lenovo\\.conda\\envs\\gputf\\lib\\site-packages (from jupyterlab-server~=2.10->jupyterlab->-r requirements.txt (line 1)) (2.9.1)\n",
      "Requirement already satisfied: importlib-metadata>=4.8.3 in c:\\users\\lenovo\\.conda\\envs\\gputf\\lib\\site-packages (from jupyterlab-server~=2.10->jupyterlab->-r requirements.txt (line 1)) (4.11.3)\n",
      "Requirement already satisfied: jsonschema>=3.0.1 in c:\\users\\lenovo\\.conda\\envs\\gputf\\lib\\site-packages (from jupyterlab-server~=2.10->jupyterlab->-r requirements.txt (line 1)) (4.16.0)\n",
      "Requirement already satisfied: ipykernel in c:\\users\\lenovo\\.conda\\envs\\gputf\\lib\\site-packages (from notebook<7->jupyterlab->-r requirements.txt (line 1)) (6.9.1)\n",
      "Requirement already satisfied: nest-asyncio>=1.5 in c:\\users\\lenovo\\.conda\\envs\\gputf\\lib\\site-packages (from notebook<7->jupyterlab->-r requirements.txt (line 1)) (1.5.5)\n",
      "Requirement already satisfied: ipython-genutils in c:\\users\\lenovo\\.conda\\envs\\gputf\\lib\\site-packages (from notebook<7->jupyterlab->-r requirements.txt (line 1)) (0.2.0)\n",
      "Requirement already satisfied: werkzeug>=1.0.1 in c:\\users\\lenovo\\.conda\\envs\\gputf\\lib\\site-packages (from tensorboard<2.11,>=2.10->tensorflow->-r requirements.txt (line 6)) (2.0.3)\n",
      "Requirement already satisfied: markdown>=2.6.8 in c:\\users\\lenovo\\.conda\\envs\\gputf\\lib\\site-packages (from tensorboard<2.11,>=2.10->tensorflow->-r requirements.txt (line 6)) (3.3.4)\n",
      "Requirement already satisfied: tensorboard-plugin-wit>=1.6.0 in c:\\users\\lenovo\\appdata\\roaming\\python\\python39\\site-packages (from tensorboard<2.11,>=2.10->tensorflow->-r requirements.txt (line 6)) (1.8.1)\n",
      "Requirement already satisfied: tensorboard-data-server<0.7.0,>=0.6.0 in c:\\users\\lenovo\\appdata\\roaming\\python\\python39\\site-packages (from tensorboard<2.11,>=2.10->tensorflow->-r requirements.txt (line 6)) (0.6.1)\n",
      "Requirement already satisfied: google-auth-oauthlib<0.5,>=0.4.1 in c:\\users\\lenovo\\appdata\\roaming\\python\\python39\\site-packages (from tensorboard<2.11,>=2.10->tensorflow->-r requirements.txt (line 6)) (0.4.6)\n",
      "Requirement already satisfied: google-auth<3,>=1.6.3 in c:\\users\\lenovo\\.conda\\envs\\gputf\\lib\\site-packages (from tensorboard<2.11,>=2.10->tensorflow->-r requirements.txt (line 6)) (2.6.0)\n",
      "Requirement already satisfied: colorama in c:\\users\\lenovo\\.conda\\envs\\gputf\\lib\\site-packages (from click->nltk->-r requirements.txt (line 3)) (0.4.5)\n",
      "Requirement already satisfied: backcall in c:\\users\\lenovo\\.conda\\envs\\gputf\\lib\\site-packages (from ipython->jupyterlab->-r requirements.txt (line 1)) (0.2.0)\n",
      "Requirement already satisfied: decorator in c:\\users\\lenovo\\.conda\\envs\\gputf\\lib\\site-packages (from ipython->jupyterlab->-r requirements.txt (line 1)) (5.1.1)\n",
      "Requirement already satisfied: stack-data in c:\\users\\lenovo\\.conda\\envs\\gputf\\lib\\site-packages (from ipython->jupyterlab->-r requirements.txt (line 1)) (0.2.0)\n",
      "Requirement already satisfied: pygments>=2.4.0 in c:\\users\\lenovo\\.conda\\envs\\gputf\\lib\\site-packages (from ipython->jupyterlab->-r requirements.txt (line 1)) (2.11.2)\n",
      "Requirement already satisfied: prompt-toolkit!=3.0.0,!=3.0.1,<3.1.0,>=2.0.0 in c:\\users\\lenovo\\.conda\\envs\\gputf\\lib\\site-packages (from ipython->jupyterlab->-r requirements.txt (line 1)) (3.0.20)\n",
      "Requirement already satisfied: jedi>=0.16 in c:\\users\\lenovo\\.conda\\envs\\gputf\\lib\\site-packages (from ipython->jupyterlab->-r requirements.txt (line 1)) (0.18.1)\n",
      "Requirement already satisfied: matplotlib-inline in c:\\users\\lenovo\\.conda\\envs\\gputf\\lib\\site-packages (from ipython->jupyterlab->-r requirements.txt (line 1)) (0.1.6)\n",
      "Requirement already satisfied: pickleshare in c:\\users\\lenovo\\.conda\\envs\\gputf\\lib\\site-packages (from ipython->jupyterlab->-r requirements.txt (line 1)) (0.7.5)\n",
      "Requirement already satisfied: notebook-shim>=0.1.0 in c:\\users\\lenovo\\.conda\\envs\\gputf\\lib\\site-packages (from nbclassic->jupyterlab->-r requirements.txt (line 1)) (0.2.2)\n"
     ]
    },
    {
     "name": "stdout",
     "output_type": "stream",
     "text": [
      "Requirement already satisfied: sniffio>=1.1 in c:\\users\\lenovo\\.conda\\envs\\gputf\\lib\\site-packages (from anyio<4,>=3.1.0->jupyter-server<3,>=1.16.0->jupyterlab->-r requirements.txt (line 1)) (1.2.0)\n",
      "Requirement already satisfied: idna>=2.8 in c:\\users\\lenovo\\.conda\\envs\\gputf\\lib\\site-packages (from anyio<4,>=3.1.0->jupyter-server<3,>=1.16.0->jupyterlab->-r requirements.txt (line 1)) (3.3)\n",
      "Requirement already satisfied: rsa<5,>=3.1.4 in c:\\users\\lenovo\\.conda\\envs\\gputf\\lib\\site-packages (from google-auth<3,>=1.6.3->tensorboard<2.11,>=2.10->tensorflow->-r requirements.txt (line 6)) (4.7.2)\n",
      "Requirement already satisfied: cachetools<6.0,>=2.0.0 in c:\\users\\lenovo\\.conda\\envs\\gputf\\lib\\site-packages (from google-auth<3,>=1.6.3->tensorboard<2.11,>=2.10->tensorflow->-r requirements.txt (line 6)) (4.2.2)\n",
      "Requirement already satisfied: pyasn1-modules>=0.2.1 in c:\\users\\lenovo\\.conda\\envs\\gputf\\lib\\site-packages (from google-auth<3,>=1.6.3->tensorboard<2.11,>=2.10->tensorflow->-r requirements.txt (line 6)) (0.2.8)\n",
      "Requirement already satisfied: requests-oauthlib>=0.7.0 in c:\\users\\lenovo\\appdata\\roaming\\python\\python39\\site-packages (from google-auth-oauthlib<0.5,>=0.4.1->tensorboard<2.11,>=2.10->tensorflow->-r requirements.txt (line 6)) (1.3.1)\n",
      "Requirement already satisfied: zipp>=0.5 in c:\\users\\lenovo\\.conda\\envs\\gputf\\lib\\site-packages (from importlib-metadata>=4.8.3->jupyterlab-server~=2.10->jupyterlab->-r requirements.txt (line 1)) (3.8.0)\n",
      "Requirement already satisfied: parso<0.9.0,>=0.8.0 in c:\\users\\lenovo\\.conda\\envs\\gputf\\lib\\site-packages (from jedi>=0.16->ipython->jupyterlab->-r requirements.txt (line 1)) (0.8.3)\n",
      "Requirement already satisfied: attrs>=17.4.0 in c:\\users\\lenovo\\.conda\\envs\\gputf\\lib\\site-packages (from jsonschema>=3.0.1->jupyterlab-server~=2.10->jupyterlab->-r requirements.txt (line 1)) (21.4.0)\n",
      "Requirement already satisfied: pyrsistent!=0.17.0,!=0.17.1,!=0.17.2,>=0.14.0 in c:\\users\\lenovo\\.conda\\envs\\gputf\\lib\\site-packages (from jsonschema>=3.0.1->jupyterlab-server~=2.10->jupyterlab->-r requirements.txt (line 1)) (0.18.0)\n",
      "Requirement already satisfied: entrypoints in c:\\users\\lenovo\\.conda\\envs\\gputf\\lib\\site-packages (from jupyter-client>=6.1.12->jupyter-server<3,>=1.16.0->jupyterlab->-r requirements.txt (line 1)) (0.4)\n",
      "Requirement already satisfied: mistune<2,>=0.8.1 in c:\\users\\lenovo\\.conda\\envs\\gputf\\lib\\site-packages (from nbconvert>=6.4.4->jupyter-server<3,>=1.16.0->jupyterlab->-r requirements.txt (line 1)) (0.8.4)\n",
      "Requirement already satisfied: jupyterlab-pygments in c:\\users\\lenovo\\.conda\\envs\\gputf\\lib\\site-packages (from nbconvert>=6.4.4->jupyter-server<3,>=1.16.0->jupyterlab->-r requirements.txt (line 1)) (0.1.2)\n",
      "Requirement already satisfied: defusedxml in c:\\users\\lenovo\\.conda\\envs\\gputf\\lib\\site-packages (from nbconvert>=6.4.4->jupyter-server<3,>=1.16.0->jupyterlab->-r requirements.txt (line 1)) (0.7.1)\n",
      "Requirement already satisfied: beautifulsoup4 in c:\\users\\lenovo\\.conda\\envs\\gputf\\lib\\site-packages (from nbconvert>=6.4.4->jupyter-server<3,>=1.16.0->jupyterlab->-r requirements.txt (line 1)) (4.11.1)\n",
      "Requirement already satisfied: pandocfilters>=1.4.1 in c:\\users\\lenovo\\.conda\\envs\\gputf\\lib\\site-packages (from nbconvert>=6.4.4->jupyter-server<3,>=1.16.0->jupyterlab->-r requirements.txt (line 1)) (1.5.0)\n",
      "Requirement already satisfied: testpath in c:\\users\\lenovo\\.conda\\envs\\gputf\\lib\\site-packages (from nbconvert>=6.4.4->jupyter-server<3,>=1.16.0->jupyterlab->-r requirements.txt (line 1)) (0.6.0)\n",
      "Requirement already satisfied: nbclient<0.6.0,>=0.5.0 in c:\\users\\lenovo\\.conda\\envs\\gputf\\lib\\site-packages (from nbconvert>=6.4.4->jupyter-server<3,>=1.16.0->jupyterlab->-r requirements.txt (line 1)) (0.5.13)\n",
      "Requirement already satisfied: bleach in c:\\users\\lenovo\\.conda\\envs\\gputf\\lib\\site-packages (from nbconvert>=6.4.4->jupyter-server<3,>=1.16.0->jupyterlab->-r requirements.txt (line 1)) (4.1.0)\n",
      "Requirement already satisfied: fastjsonschema in c:\\users\\lenovo\\.conda\\envs\\gputf\\lib\\site-packages (from nbformat>=5.2.0->jupyter-server<3,>=1.16.0->jupyterlab->-r requirements.txt (line 1)) (2.16.2)\n",
      "Requirement already satisfied: wcwidth in c:\\users\\lenovo\\.conda\\envs\\gputf\\lib\\site-packages (from prompt-toolkit!=3.0.0,!=3.0.1,<3.1.0,>=2.0.0->ipython->jupyterlab->-r requirements.txt (line 1)) (0.2.5)\n",
      "Requirement already satisfied: certifi>=2017.4.17 in c:\\users\\lenovo\\.conda\\envs\\gputf\\lib\\site-packages (from requests->jupyterlab-server~=2.10->jupyterlab->-r requirements.txt (line 1)) (2022.6.15)\n",
      "Requirement already satisfied: urllib3<1.27,>=1.21.1 in c:\\users\\lenovo\\.conda\\envs\\gputf\\lib\\site-packages (from requests->jupyterlab-server~=2.10->jupyterlab->-r requirements.txt (line 1)) (1.26.11)\n",
      "Requirement already satisfied: charset-normalizer<3,>=2 in c:\\users\\lenovo\\.conda\\envs\\gputf\\lib\\site-packages (from requests->jupyterlab-server~=2.10->jupyterlab->-r requirements.txt (line 1)) (2.0.4)\n",
      "Requirement already satisfied: argon2-cffi-bindings in c:\\users\\lenovo\\.conda\\envs\\gputf\\lib\\site-packages (from argon2-cffi->jupyter-server<3,>=1.16.0->jupyterlab->-r requirements.txt (line 1)) (21.2.0)\n",
      "Requirement already satisfied: pytz>=2015.7 in c:\\users\\lenovo\\.conda\\envs\\gputf\\lib\\site-packages (from babel->jupyterlab-server~=2.10->jupyterlab->-r requirements.txt (line 1)) (2022.5)\n",
      "Requirement already satisfied: debugpy<2.0,>=1.0.0 in c:\\users\\lenovo\\.conda\\envs\\gputf\\lib\\site-packages (from ipykernel->notebook<7->jupyterlab->-r requirements.txt (line 1)) (1.5.1)\n",
      "Requirement already satisfied: executing in c:\\users\\lenovo\\.conda\\envs\\gputf\\lib\\site-packages (from stack-data->ipython->jupyterlab->-r requirements.txt (line 1)) (0.8.3)\n",
      "Requirement already satisfied: pure-eval in c:\\users\\lenovo\\.conda\\envs\\gputf\\lib\\site-packages (from stack-data->ipython->jupyterlab->-r requirements.txt (line 1)) (0.2.2)\n",
      "Requirement already satisfied: asttokens in c:\\users\\lenovo\\.conda\\envs\\gputf\\lib\\site-packages (from stack-data->ipython->jupyterlab->-r requirements.txt (line 1)) (2.0.5)\n",
      "Requirement already satisfied: pyasn1<0.5.0,>=0.4.6 in c:\\users\\lenovo\\.conda\\envs\\gputf\\lib\\site-packages (from pyasn1-modules>=0.2.1->google-auth<3,>=1.6.3->tensorboard<2.11,>=2.10->tensorflow->-r requirements.txt (line 6)) (0.4.8)\n",
      "Requirement already satisfied: oauthlib>=3.0.0 in c:\\users\\lenovo\\appdata\\roaming\\python\\python39\\site-packages (from requests-oauthlib>=0.7.0->google-auth-oauthlib<0.5,>=0.4.1->tensorboard<2.11,>=2.10->tensorflow->-r requirements.txt (line 6)) (3.2.2)\n",
      "Requirement already satisfied: cffi>=1.0.1 in c:\\users\\lenovo\\.conda\\envs\\gputf\\lib\\site-packages (from argon2-cffi-bindings->argon2-cffi->jupyter-server<3,>=1.16.0->jupyterlab->-r requirements.txt (line 1)) (1.15.1)\n",
      "Requirement already satisfied: soupsieve>1.2 in c:\\users\\lenovo\\.conda\\envs\\gputf\\lib\\site-packages (from beautifulsoup4->nbconvert>=6.4.4->jupyter-server<3,>=1.16.0->jupyterlab->-r requirements.txt (line 1)) (2.3.1)\n",
      "Requirement already satisfied: webencodings in c:\\users\\lenovo\\.conda\\envs\\gputf\\lib\\site-packages (from bleach->nbconvert>=6.4.4->jupyter-server<3,>=1.16.0->jupyterlab->-r requirements.txt (line 1)) (0.5.1)\n",
      "Requirement already satisfied: pycparser in c:\\users\\lenovo\\.conda\\envs\\gputf\\lib\\site-packages (from cffi>=1.0.1->argon2-cffi-bindings->argon2-cffi->jupyter-server<3,>=1.16.0->jupyterlab->-r requirements.txt (line 1)) (2.21)\n"
     ]
    }
   ],
   "source": [
    "# you may not run this cell after the first installation\n",
    "#!pip install -r requirements.txt"
   ]
  },
  {
   "cell_type": "code",
   "execution_count": 2,
   "id": "91d76782-187b-4da7-baf2-d92655c79d63",
   "metadata": {},
   "outputs": [
    {
     "data": {
      "text/plain": [
       "[PhysicalDevice(name='/physical_device:GPU:0', device_type='GPU')]"
      ]
     },
     "execution_count": 2,
     "metadata": {},
     "output_type": "execute_result"
    }
   ],
   "source": [
    "import tensorflow as tf\n",
    "\n",
    "\n",
    "# If you are going to use GPU, make sure the GPU in in the output\n",
    "tf.config.list_physical_devices('GPU')"
   ]
  },
  {
   "cell_type": "markdown",
   "id": "63231e67-b83e-4628-9c49-31b6d096b4f7",
   "metadata": {},
   "source": [
    "## 1. Data Processing (5 points)"
   ]
  },
  {
   "cell_type": "code",
   "execution_count": 3,
   "id": "a98cc310-65bb-49dc-bd54-476f4e941f7d",
   "metadata": {},
   "outputs": [],
   "source": [
    "import sys\n",
    "\n",
    "\n",
    "def print_line(*args):\n",
    "    \"\"\" Inline print and go to the begining of line\n",
    "    \"\"\"\n",
    "    args1 = [str(arg) for arg in args]\n",
    "    str_ = ' '.join(args1)\n",
    "    print('\\r' + str_, end='')"
   ]
  },
  {
   "cell_type": "code",
   "execution_count": 4,
   "id": "653997a8-637a-4725-8ee5-f240913e0644",
   "metadata": {},
   "outputs": [],
   "source": [
    "from typing import List, Tuple, Union\n",
    "\n",
    "import numpy as np"
   ]
  },
  {
   "cell_type": "markdown",
   "id": "b9eb08e4-91fa-4d1e-bc92-0445397567ca",
   "metadata": {},
   "source": [
    "### 1.1 Load data"
   ]
  },
  {
   "cell_type": "code",
   "execution_count": 5,
   "id": "9fc26198-cfbf-4c2f-89e6-460f5277c177",
   "metadata": {},
   "outputs": [
    {
     "name": "stdout",
     "output_type": "stream",
     "text": [
      "['watching time chasers it obvious that it was made by a bunch of friends', 'maybe they were sitting around one day in film school and said hey let s pool our money together and make a really bad movie or something like that', 'what ever they said they still ended up making a really bad movie dull story bad script lame acting poor cinematography bottom of the barrel stock music etc', 'all corners were cut except the one that would have prevented this film s release', 'life s like that', 'i saw this film about years ago and remember it as being particularly nasty', 'i believe it is based on a true incident a young man breaks into a nurses home and rapes tortures and kills various women it is in black and white but saves the colour for one shocking shot at the end the film seems to be trying to make some political statement but it just comes across as confused and obscene avoid', 'minor spoilersin new york joan barnard elvire audrey is informed that her husband the archeologist arthur barnard john saxon was mysteriously murdered in italy while searching an etruscan tomb', 'joan decides to travel to italy in the company of her colleague who offers his support', 'once in italy she starts having visions relative to an ancient people and maggots many maggots']\n"
     ]
    }
   ],
   "source": [
    "import os\n",
    "import pickle\n",
    "\n",
    "# In this imdb review, each line is a sentence seperated by a space.\n",
    "sentences = pickle.load(open(os.path.join('a2-data', 'imdb_review.pickle'), 'rb'))\n",
    "print(sentences[:10])"
   ]
  },
  {
   "cell_type": "markdown",
   "id": "9e173a8d-8f57-40e6-b278-052290ab9ffe",
   "metadata": {},
   "source": [
    "### 1.3 Tokenization (5 Points)\n",
    "\n",
    "In this section, you will implement a Tokenizer than can record all tokens in a vocabulary."
   ]
  },
  {
   "cell_type": "code",
   "execution_count": 58,
   "id": "b620689c-b274-483d-8246-afc3ce5364f7",
   "metadata": {},
   "outputs": [],
   "source": [
    "class Tokenizer:\n",
    "    def __init__(self, sos_token='<s>', eos_token='</s>', pad_token='<pad>', unk_token='<unk>', mask_token='<mask>'):\n",
    "        # Special tokens. Not used in Word2Vec\n",
    "        self.sos_token = sos_token\n",
    "        self.eos_token = eos_token\n",
    "        self.pad_token = pad_token\n",
    "        self.unk_token = unk_token\n",
    "        self.mask_token = mask_token\n",
    "        \n",
    "        self.vocab = { sos_token: 0, eos_token: 1, pad_token: 2, unk_token: 3, mask_token: 4 }  # token -> id\n",
    "        self.inverse_vocab = { 0: sos_token, 1: eos_token, 2: pad_token, 3: unk_token, 4: mask_token }  # id -> token\n",
    "        self.token_occurrence = { sos_token: 0, eos_token: 0, pad_token: 0, unk_token: 0, mask_token: 0 }  # token -> occurrence\n",
    "        \n",
    "    def __len__(self):\n",
    "        \"\"\" A magic method that enable program to know the number of tokens by calling:\n",
    "            ```python\n",
    "            tokenizer = Tokenizer()\n",
    "            num_tokens = len(tokenizer)\n",
    "            ```\n",
    "        \"\"\"\n",
    "        return len(self.vocab)\n",
    "\n",
    "        \n",
    "    def fit(self, sentences: List[str]):\n",
    "        \"\"\" Fit the tokenizer using all sentences.\n",
    "        1. Tokenize the sentence by splitting with spaces.\n",
    "        2. Record the occurrence of all tokens\n",
    "        3. Construct the token to index (self.vocab) map and the inversed map (self.inverse_vocab) based on the occurrence. The token with a higher occurrence has the smaller index\n",
    "        \n",
    "        Args:\n",
    "            sentences: All sentences in the dataset.\n",
    "        \"\"\"\n",
    "        n = len(sentences)\n",
    "        for i, sentence in enumerate(sentences):\n",
    "            if i % 100 == 0 or i == n - 1:\n",
    "                print_line('Fitting Tokenizer:', (i + 1), '/', n)\n",
    "            # Start your code here (Step 1 and 2)\n",
    "                self.num_doc = len(sentences)        \n",
    "            tokens = sentence.lower().split()\n",
    "            for token in tokens:\n",
    "                if token in self.token_occurrence:\n",
    "                    self.token_occurrence[token] += 1\n",
    "                else:\n",
    "                    self.token_occurrence[token] = 1\n",
    "\n",
    "            # End\n",
    "        print_line('\\n #####  ')\n",
    "        # Start your code here (Step 3, update self.vocab and self.inverse_vocab)    \n",
    "        for i, token in enumerate(self.token_occurrence.keys()):\n",
    "            self.vocab[token] = i+5\n",
    "            self.inverse_vocab[i+5] = token\n",
    "        \n",
    "        print(' end of fit')\n",
    "        # End\n",
    "        \n",
    "        print('The number of distinct tokens:', len(self.vocab))\n",
    "        \n",
    "    def encode(self, sentences: List[str]) -> List[List[int]]:\n",
    "        \"\"\" Encode the sentences into token ids\n",
    "            Note: 1. if a token in a sentence does not exist in the fit encoder, we will use the <unk> token to replace it.\n",
    "                  2. If the number of tokens in a sentence is less than two, we ignore this sentence.\n",
    "        Args:\n",
    "            sentences: Raw sentences\n",
    "        Returns:\n",
    "            sent_token_ids: A list of id list\n",
    "        \"\"\"\n",
    "        n = len(sentences)\n",
    "        sent_token_ids = []\n",
    "        for i, sentence in enumerate(sentences):\n",
    "            if i % 100 == 0 or i == n - 1:\n",
    "                print_line('Encoding with Tokenizer:', (i + 1), '/', n)\n",
    "            token_ids = []\n",
    "            # Start your code (encode)\n",
    "            token_ids = sentence.split()\n",
    "            vocab_ids=[]\n",
    "            for k in token_ids:\n",
    "                vocab_ids.append(self.vocab[k])\n",
    "            for tk in token_ids:\n",
    "                if self.vocab.get(tk,-10)==-10:\n",
    "                    tk='<unk>'\n",
    "            if len(token_ids)>2:\n",
    "                sent_token_ids.append(vocab_ids)\n",
    "            # End\n",
    "        return sent_token_ids"
   ]
  },
  {
   "cell_type": "markdown",
   "id": "61755eeb-5d1c-4923-b58a-0e9409f4b4cd",
   "metadata": {},
   "source": [
    "#### Test your implementation by running the following cell."
   ]
  },
  {
   "cell_type": "code",
   "execution_count": 60,
   "id": "d7fec131-d49d-4045-9c69-2df685ef433e",
   "metadata": {},
   "outputs": [
    {
     "name": "stdout",
     "output_type": "stream",
     "text": [
      "\r",
      "Fitting Tokenizer: 1 / 2\r",
      "Fitting Tokenizer: 2 / 2\r\n",
      " #####   end of fit\n",
      "The number of distinct tokens: 44\n",
      "\n",
      "it : 2\n",
      "that : 2\n",
      "a : 2\n",
      "and : 2\n",
      "watching : 1\n",
      "time : 1\n",
      "chasers : 1\n",
      "obvious : 1\n",
      "was : 1\n",
      "made : 1\n",
      "\n",
      "\r",
      "Encoding with Tokenizer: 1 / 2\r",
      "Encoding with Tokenizer: 2 / 2watching time chasers it obvious that it was made by a bunch of friends ['watching', 'time', 'chasers', 'it', 'obvious', 'that', 'it', 'was', 'made', 'by', 'a', 'bunch', 'of', 'friends'] \n",
      "\n",
      "maybe they were sitting around one day in film school and said hey let s pool our money together and make a really bad movie or something like that ['maybe', 'they', 'were', 'sitting', 'around', 'one', 'day', 'in', 'film', 'school', 'and', 'said', 'hey', 'let', 's', 'pool', 'our', 'money', 'together', 'and', 'make', 'a', 'really', 'bad', 'movie', 'or', 'something', 'like', 'that'] \n",
      "\n"
     ]
    }
   ],
   "source": [
    "test_sentences = sentences[:2]\n",
    "tokenizer = Tokenizer()\n",
    "tokenizer.fit(test_sentences)\n",
    "print()\n",
    "\n",
    "token_occurrence = sorted(tokenizer.token_occurrence.items(), key=lambda e: e[1], reverse=True)\n",
    "for token, occurrence in token_occurrence[:10]:\n",
    "    print(token, ':', occurrence)\n",
    "print()\n",
    "sent_token_ids = tokenizer.encode(test_sentences)\n",
    "\n",
    "for test_sentence, token_ids in zip(test_sentences, sent_token_ids):\n",
    "    sentence = [tokenizer.inverse_vocab[token] for token in token_ids]\n",
    "    print(test_sentence, sentence, '\\n')"
   ]
  },
  {
   "cell_type": "markdown",
   "id": "24428c82-0496-4b7c-a8aa-d8ce7b4ff03f",
   "metadata": {},
   "source": [
    "Encode all sentences"
   ]
  },
  {
   "cell_type": "code",
   "execution_count": 61,
   "id": "c68fc5a9-452b-44ad-8df1-b6b96c823282",
   "metadata": {},
   "outputs": [
    {
     "name": "stdout",
     "output_type": "stream",
     "text": [
      "Fitting Tokenizer: 528199 / 528199\n",
      " #####   end of fit\n",
      "The number of distinct tokens: 102299\n",
      "Encoding with Tokenizer: 528199 / 528199"
     ]
    }
   ],
   "source": [
    "tokenizer = Tokenizer()\n",
    "tokenizer.fit(sentences)\n",
    "sent_token_ids = tokenizer.encode(sentences)\n",
    "\n",
    "# Note: if you implement correctly, there will be about 100k tokens."
   ]
  },
  {
   "cell_type": "code",
   "execution_count": 9,
   "id": "0dea9e0d-63e2-48be-8f36-f659f262b6da",
   "metadata": {},
   "outputs": [
    {
     "name": "stdout",
     "output_type": "stream",
     "text": [
      "max token number in a sentence: 767\n",
      "min token number in a sentence: 3\n",
      "avg token number in a sentence: 23.07580687218086\n"
     ]
    }
   ],
   "source": [
    "print('max token number in a sentence:', max(map(lambda e: len(e), sent_token_ids)))\n",
    "print('min token number in a sentence:', min(map(lambda e: len(e), sent_token_ids)))\n",
    "print('avg token number in a sentence:', sum(map(lambda e: len(e), sent_token_ids)) / len(sent_token_ids))"
   ]
  },
  {
   "cell_type": "code",
   "execution_count": 62,
   "id": "d5bf4377-4c9f-4d2d-a856-3d193e01f5ee",
   "metadata": {},
   "outputs": [
    {
     "name": "stdout",
     "output_type": "stream",
     "text": [
      "the : 678333\n",
      "and : 329979\n",
      "a : 328341\n",
      "of : 293903\n",
      "to : 271514\n",
      "is : 214380\n",
      "it : 191411\n",
      "in : 188920\n",
      "i : 170761\n",
      "this : 150693\n"
     ]
    }
   ],
   "source": [
    "token_occurrence = sorted(tokenizer.token_occurrence.items(), key=lambda e: e[1], reverse=True)\n",
    "for token, occurrence in token_occurrence[:10]:\n",
    "    print(token, ':', occurrence)"
   ]
  },
  {
   "cell_type": "markdown",
   "id": "11e71bd1-478c-45e6-b679-6def46ff4829",
   "metadata": {},
   "source": [
    "## 2. Training Data Generation (10 Points)\n",
    "\n",
    "### Positive Samples (5 Points)\n",
    "In this section, you are required to generate the positive training data for skip-gram.\n",
    "\n",
    "- Given a token sequence, for every center token, you need to use a window whose size is **2** to retrieve context words as positive pairs.\n",
    "    \n",
    "For example, given the token sequence \"The quick brown fox jumps over the lazy dog .\", when the center word is \"fox\", the context words are:\n",
    "$$\\text{The}~\\underbrace{\\text{quick brown}}_\\text{context words}~\\underbrace{\\text{fox}}_{\\text{center word}}~\\underbrace{\\text{jumps over}}_\\text{context words}~\\text{the lazy dog .}$$\n",
    "We can generate four positive pairs: (fox, quick), (fox, brown), (fox, jumps), (fox, over)."
   ]
  },
  {
   "cell_type": "code",
   "execution_count": 66,
   "id": "44537480-4186-488f-b4e7-89d211054717",
   "metadata": {},
   "outputs": [],
   "source": [
    "import random\n",
    "\n",
    "\n",
    "def concat(*iterables):\n",
    "    for iterable in iterables:\n",
    "        yield from iterable\n",
    "\n",
    "def positive_pairs_generator(sent_token_ids: List[List[int]], window_size: int = 2) -> np.ndarray:\n",
    "    \"\"\" Generate positive pairs: (center word, context word)\n",
    "    \n",
    "    Args:\n",
    "        sent_token_ids: List of token list. Each element is a token list (sentence)\n",
    "        window_size: the context window size. You should retrieve window size context words in the left and window size context words in the right.\n",
    "        \n",
    "    Yield:\n",
    "        center_word, context_word: a positive pair\n",
    "        \n",
    "    Note: this is a generator function which yields pairs. Do not return anything.\n",
    "    \"\"\"\n",
    "    n = len(sent_token_ids)\n",
    "    for t, token_ids in enumerate(sent_token_ids):\n",
    "        if t % 100 == 0 or t == n - 1:\n",
    "            print_line('Positive Pair Generation:', (t + 1), '/', n)\n",
    "    \n",
    "        for i, center_word in enumerate(token_ids):\n",
    "            context_words = []\n",
    "            # Start your code here\n",
    "            # Append context words of center_word to context_words\n",
    "            l=len(token_ids)\n",
    "            for j in range(l):\n",
    "                if token_ids[j]!=center_word:\n",
    "                    context_words.append(token_ids[j])                \n",
    "            # End\n",
    "            for context_word in context_words:\n",
    "                yield center_word, context_word\n",
    "\n",
    "\n",
    "def save_train_file(sent_token_ids: List[List[int]], window_size: int = 2):\n",
    "    generator = positive_pairs_generator(sent_token_ids, window_size)\n",
    "    buffer_size = 100000\n",
    "    buffer = []\n",
    "    count = 0\n",
    "    with open(os.path.join('a2-data', 'word2vec_train_file.txt'), 'w') as train_file:\n",
    "        for center_word, context_words in generator:\n",
    "            count += 1\n",
    "            line = f'{center_word} {context_words}\\n'\n",
    "            buffer.append(line)\n",
    "            if len(buffer) == buffer_size:\n",
    "                random.shuffle(buffer)\n",
    "                train_file.writelines(buffer)\n",
    "                buffer = []\n",
    "        if len(buffer) > 0:\n",
    "            train_file.writelines(buffer)\n",
    "    print('\\n')\n",
    "    print(f'There are {count} pairs')\n",
    "    return count"
   ]
  },
  {
   "cell_type": "code",
   "execution_count": 67,
   "id": "157b7bbf-ffce-4955-903f-a23dabeff734",
   "metadata": {},
   "outputs": [
    {
     "name": "stdout",
     "output_type": "stream",
     "text": [
      "Positive Pair Generation: 513898 / 513898\n",
      "\n",
      "There are 438634942 pairs\n"
     ]
    }
   ],
   "source": [
    "window_size = 2\n",
    "num_samples = save_train_file(sent_token_ids, window_size)\n",
    "\n",
    "# Note: if you implement correctly, there will be about 44M pairs."
   ]
  },
  {
   "cell_type": "markdown",
   "id": "90ab2a3e-fd01-4c01-a0dc-cf795a8c887a",
   "metadata": {},
   "source": [
    "### Negative Samples (5 Points)\n",
    "\n",
    "We randomly select $K$ words from the vocabulary as negative samples."
   ]
  },
  {
   "cell_type": "code",
   "execution_count": 68,
   "id": "fe09b55e-52d8-47b4-a7b3-6163a1c82ef0",
   "metadata": {},
   "outputs": [],
   "source": [
    "def get_negative_samples(vocab_size: int, batch_size: int, negative_sample_num: int) -> np.ndarray:\n",
    "    \"\"\" Generate negative words\n",
    "    \n",
    "    Args:\n",
    "        vocab_size: number of tokens in the vocabulary\n",
    "        batch_size: number of samples (center word) in a batch\n",
    "        negative_sample_num: number of negative words sampled for a center word\n",
    "        \n",
    "    Return:\n",
    "        negative_words: Shape of (batch_size x negative_sample_num)\n",
    "        \n",
    "    Note: 1. You should NOT sample special token in the vocabulary, i.e., the token ids range should be [5, vocab_size)\n",
    "          2. Hint: See numpy.random.choice. Read carefully for each parameter of this function\n",
    "    \"\"\"\n",
    "    \n",
    "    negative_words = None\n",
    "    # Start your code here\n",
    "    negative_words = np.random.choice(np.arange(5,vocab_size), (batch_size,negative_sample_num))\n",
    "    \n",
    "    # End\n",
    "    return negative_words\n",
    "\n",
    "\n",
    "def train_data_generator(batch_size, vocab_size, negative_sample_num):\n",
    "    with open(os.path.join('a2-data', 'word2vec_train_file.txt')) as train_file:\n",
    "        while True:\n",
    "            batch_center_words, batch_context_words = [], []\n",
    "            for line in train_file:\n",
    "                center_word, context_word = line.strip().split()\n",
    "                batch_center_words.append(int(center_word))\n",
    "                batch_context_words.append(int(context_word))\n",
    "                if len(batch_center_words) == batch_size:\n",
    "                    negative_words = get_negative_samples(vocab_size, batch_size, negative_sample_num)\n",
    "                    yield batch_center_words, batch_context_words, negative_words\n",
    "                    batch_center_words, batch_context_words = [], []\n",
    "            train_file.seek(0)\n",
    "            if len(batch_center_words) > 0:\n",
    "                real_batch_size = len(batch_center_words)\n",
    "                negative_words = get_negative_samples(vocab_size, real_batch_size, negative_sample_num)\n",
    "                yield batch_center_words, batch_context_words, negative_words\n",
    "            "
   ]
  },
  {
   "cell_type": "markdown",
   "id": "4988ca2f-ce4a-40eb-9fef-4d93f32575da",
   "metadata": {},
   "source": [
    "## 3. Skip-gram Model (20 Points)\n",
    "\n",
    "- Loss: 10 Points\n",
    "- Model: 10 Points"
   ]
  },
  {
   "cell_type": "code",
   "execution_count": 76,
   "id": "e8fefa08-6231-4fbf-869a-d07ebce350f8",
   "metadata": {},
   "outputs": [],
   "source": [
    "from tensorflow.keras import Model\n",
    "from tensorflow.keras.losses import Loss\n",
    "\n",
    "def negative_sampling_loss(center_embeddings, context_embeddings, negative_embeddings):\n",
    "    \"\"\" Calculate the negative sampling loss\n",
    "    \n",
    "    Args:\n",
    "        center_embeddings: v_c, (batch_size x embedding_dim)\n",
    "        context_embeddings: u_o, (batch_size x embedding_dim)\n",
    "        negative_embeddings: u_k, (batch_size x negative_sample_num x embedding_dim)\n",
    "    \"\"\"\n",
    "    loss = 0\n",
    "    # Start your code here\n",
    "    # 1. Calculate positive dot product\n",
    "    # 2. loss for the positive pairs\n",
    "    # 3. Calculate negative dot product\n",
    "    # 4. loss for the negative words\n",
    "    # Hint: See tf.reduce_sum, tf.expand_dims, tf.reduce_mean for help\n",
    "    \n",
    "    dot_product = tf.reduce_sum(tf.multiply(context_embeddings, center_embeddings), axis=1)\n",
    "    positive = tf.nn.sigmoid(dot_product) #positive dot product\n",
    "    loss_positive = tf.math.log(positive) #loss for positive pair\n",
    "    \n",
    "    center_embeddings = tf.expand_dims(center_embeddings, axis=1)\n",
    "    dot_product = tf.reduce_sum(tf.multiply(negative_embeddings, center_embeddings), axis=2)\n",
    "    negative = tf.nn.sigmoid(-dot_product) \n",
    "    loss_negative = tf.reduce_sum(tf.math.log(negative), axis=1) #loss for negative pair\n",
    "\n",
    "    loss = -(tf.reduce_mean(loss_positive + loss_negative)) #net loss\n",
    "    # End\n",
    "    return loss\n",
    "\n",
    "class SkipGram(Model):\n",
    "    def __init__(self, vocab_size: int, embedding_dim: int):\n",
    "        \"\"\" Skip-gram model.\n",
    "        \"\"\"\n",
    "        super().__init__()\n",
    "        self.vocab_size = vocab_size\n",
    "        self.embedding_dim = embedding_dim\n",
    "\n",
    "        # Start your code here\n",
    "        # Initialize embedding layers\n",
    "        \n",
    "        self.center_embeddings = tf.keras.layers.Embedding(vocab_size,\n",
    "                                      embedding_dim,\n",
    "                                      input_length=1,\n",
    "                                      name=\"w2v_embedding\")\n",
    "        self.context_embeddings =tf.keras.layers.Embedding(vocab_size,\n",
    "                                       embedding_dim,\n",
    "                                       input_length=negative_sample_num+1)\n",
    "        self.negative_embeddings=tf.keras.layers.Embedding(vocab_size,embedding_dim,\n",
    "                                       input_length=negative_sample_num+1)\n",
    "        # Hint: See tf.keras.layers.Embedding\n",
    "\n",
    "        # End\n",
    "        \n",
    "    def call(self, center_words, context_words, negative_words):\n",
    "        \"\"\" Forward of the skip-gram model\n",
    "        \n",
    "        Args:\n",
    "            center_words: tensor (batch_size, )\n",
    "            context_words: tensor (batch_size, )\n",
    "            negative_words: tensor (batch_size, negative_embeddings)\n",
    "            \n",
    "        Return:\n",
    "            center_embeddings, context_embeddings, negative_embeddings: The input for the negative_sampling_loss.\n",
    "        \"\"\"\n",
    "        # Start your code here\n",
    "        center_embeddings=self.center_embeddings(center_words)\n",
    "        context_embeddings=self.context_embeddings(context_words)\n",
    "        negative_embeddings=self.negative_embeddings(negative_words)\n",
    "\n",
    "        # End\n",
    "        \n",
    "        return center_embeddings, context_embeddings, negative_embeddings"
   ]
  },
  {
   "cell_type": "code",
   "execution_count": 77,
   "id": "cec8205b-1449-44dc-81ac-0dee1f155676",
   "metadata": {},
   "outputs": [],
   "source": [
    "vocab_size = len(tokenizer)\n",
    "embedding_dim = 64\n",
    "num_epoch = 2\n",
    "batch_size = 1024\n",
    "negative_sample_num = 5"
   ]
  },
  {
   "cell_type": "code",
   "execution_count": 78,
   "id": "1f0e3ff1-1f93-46bd-b849-42a0ead9ebd9",
   "metadata": {},
   "outputs": [],
   "source": [
    "model = SkipGram(vocab_size, embedding_dim)\n",
    "optimizer = tf.keras.optimizers.Adam(learning_rate=1e-3)"
   ]
  },
  {
   "cell_type": "code",
   "execution_count": null,
   "id": "27449114",
   "metadata": {},
   "outputs": [],
   "source": []
  },
  {
   "cell_type": "code",
   "execution_count": 79,
   "id": "1ee3aa8e-eed3-49fd-85cc-f6afb06d9e52",
   "metadata": {},
   "outputs": [
    {
     "name": "stdout",
     "output_type": "stream",
     "text": [
      "Epoch 1 / 2 - Step 428355 / 428355 - loss: 0.01050\n",
      "Epoch 2 / 2 - Step 428355 / 428355 - loss: 0.00010\n"
     ]
    }
   ],
   "source": [
    "n_batch = int(np.ceil(num_samples / batch_size))\n",
    "train_gen = train_data_generator(batch_size, vocab_size, negative_sample_num)\n",
    "for epoch in range(num_epoch):\n",
    "    epoch_loss = 0.0\n",
    "    for batch_idx in range(n_batch):\n",
    "        batch = next(train_gen)\n",
    "        real_batch_size = len(batch[0])\n",
    "        batch = [tf.convert_to_tensor(d, tf.int64) for d in batch]\n",
    "\n",
    "        with tf.GradientTape() as tape:\n",
    "            output = model(*batch)\n",
    "            loss = negative_sampling_loss(*output)\n",
    "\n",
    "        if batch_idx % 10 == 0 or batch_idx == num_samples - 1:\n",
    "            print_line(f'Epoch {epoch + 1} / {num_epoch} - Step {batch_idx + 1} / {n_batch} - loss: {loss:.4f}')\n",
    "            \n",
    "        trainable_vars = model.trainable_variables\n",
    "        gradients = tape.gradient(loss, trainable_vars)\n",
    "\n",
    "        # Update weights\n",
    "        optimizer.apply_gradients(zip(gradients, trainable_vars))\n",
    "        epoch_loss += loss * real_batch_size\n",
    "    print(f'\\rEpoch {epoch + 1} / {num_epoch} - Step {n_batch} / {n_batch} - loss: {epoch_loss / num_samples:.4f}')"
   ]
  },
  {
   "cell_type": "markdown",
   "id": "70839bdf-2b75-4219-9543-4e2ccdd0ee9e",
   "metadata": {},
   "source": [
    "## 4. Visualization (5 Points)"
   ]
  },
  {
   "cell_type": "code",
   "execution_count": 80,
   "id": "01170df8-363e-4250-9c28-d2095af76363",
   "metadata": {},
   "outputs": [
    {
     "data": {
      "text/plain": [
       "(102299, 64)"
      ]
     },
     "execution_count": 80,
     "metadata": {},
     "output_type": "execute_result"
    }
   ],
   "source": [
    "# word_vecs = tf.concat([model.center_embeddings.weights[0], model.context_embeddings.weights[0]], axis=-1).numpy()\n",
    "center_vecs = model.center_embeddings.weights[0].numpy()\n",
    "center_vecs.shape"
   ]
  },
  {
   "cell_type": "code",
   "execution_count": 85,
   "id": "d3f58dc6-ce6c-4b7a-bc41-cad74addd619",
   "metadata": {},
   "outputs": [
    {
     "data": {
      "image/png": "[encoded data removed]",
      "text/plain": [
       "<Figure size 1000x1000 with 1 Axes>"
      ]
     },
     "metadata": {},
     "output_type": "display_data"
    }
   ],
   "source": [
    "from matplotlib import pyplot as plt\n",
    "plt.rcParams[\"figure.figsize\"] = (10,10)\n",
    "\n",
    "visualize_words = [\n",
    "    \"movie\", \"film\", \"story\",\n",
    "    \"good\", \"enjoyable\", \"great\", \"bad\",\n",
    "    \"coffee\", \"tea\", \"milk\"\n",
    "]\n",
    "visualize_idx = [tokenizer.vocab[word] for word in visualize_words]\n",
    "visualize_vecs = center_vecs[visualize_idx, :]\n",
    "\n",
    "temp = (visualize_vecs - np.mean(visualize_vecs, axis=0))\n",
    "covariance = 1.0 / len(visualize_idx) * temp.T.dot(temp)\n",
    "U, S, V = np.linalg.svd(covariance)\n",
    "coord = temp.dot(U[:, 0:2])\n",
    "\n",
    "for i in range(len(visualize_words)):\n",
    "    plt.text(coord[i, 0], coord[i, 1], visualize_words[i],\n",
    "             bbox=dict(facecolor='green', alpha=0.1))\n",
    "\n",
    "plt.xlim((np.min(coord[:, 0]), np.max(coord[:, 0])))\n",
    "plt.ylim((np.min(coord[:, 1]), np.max(coord[:, 1])))\n",
    "\n",
    "plt.savefig('word_vectors.png')\n",
    "plt.show()"
   ]
  },
  {
   "cell_type": "code",
   "execution_count": 93,
   "id": "21566d6c-998e-4b86-b765-9b7704e94737",
   "metadata": {},
   "outputs": [],
   "source": [
    "def knn(vec, mat, k):\n",
    "    \"\"\" Implement the KNN algorithm based on cosine similarity, which will be used for analysis.\n",
    "\n",
    "        Args:\n",
    "            vec: numpy ndarray, the target vector\n",
    "            mat: numpy ndarray, a matrix contains all the vectors (each row is a vector)\n",
    "            k: the number of the nearest neighbors you want to find.\n",
    "            \n",
    "        Return:\n",
    "            indices: the k indices of the matrix's rows that are closest to the vec\n",
    "    \"\"\"\n",
    "    indicies = []\n",
    "    def cosine_similarity(vector_1: np.ndarray, vector_2: np.ndarray) -> float:\n",
    "    \n",
    "        return np.dot(vector_1, vector_2)/(np.linalg.norm(vector_1) *\n",
    "                                          np.linalg.norm(vector_2))\n",
    "    # Start your code here\n",
    "    # Note: DO NOT use for loop to calculate the similarity between two vectors. You are required to vectorize the calculation.\n",
    "    # Hint: See np.argsort\n",
    "    indices=np.argsort([cosine_similarity(vec, row)\n",
    "                          for row in mat])[-k:]\n",
    "\n",
    "    # End\n",
    "    \n",
    "    return indices"
   ]
  },
  {
   "cell_type": "code",
   "execution_count": 94,
   "id": "c1433fc0-5935-49d1-9cc8-c232ae7baff9",
   "metadata": {},
   "outputs": [
    {
     "name": "stdout",
     "output_type": "stream",
     "text": [
      "Word: \"movie\" is close to ['rothrock', 'staggers', 'crown', 'quarrel', 'assumption', 'tributes', 'harlot', 'ingenue', 'sculpted', 'movie']\n",
      "Word: \"film\" is close to ['performing', 'topaz', 'damascus', 'achieve', 'jacob', 'psychopaths', 'planks', 'shrug', 'softens', 'film']\n",
      "Word: \"story\" is close to ['matheson', 'rounds', 'depending', 'manual', 'miscommunication', 'succumbed', 'weasel', 'missing', 'loosing', 'story']\n",
      "Word: \"good\" is close to ['killings', 'effective', 'garr', 'inherits', 'duffy', 'spike', 'mates', 'pictures', 'concert', 'good']\n",
      "Word: \"enjoyable\" is close to ['schwarzenegger', 'awry', 'transcends', 'akins', 'pleasures', 'argue', 'unwanted', 'firing', 'highlander', 'enjoyable']\n",
      "Word: \"great\" is close to ['unrealistically', 'insulted', 'mere', 'hijack', 'croatia', 'alcatraz', 'milius', 'carroll', 'posh', 'great']\n",
      "Word: \"bad\" is close to ['rojo', 'liabilities', 'absurd', 'disguise', 'flows', 'tug', 'odious', 'dosed', 'dictated', 'bad']\n",
      "Word: \"coffee\" is close to ['occupies', 'pistol', 'housewife', 'engage', 'uncertain', 'pushed', 'viggo', 'swank', 'takashi', 'coffee']\n",
      "Word: \"tea\" is close to ['crass', 'gowns', 'odyssey', 'simplicity', 'bounty', 'industrialist', 'jacket', 'nichols', 'mortensen', 'tea']\n",
      "Word: \"milk\" is close to ['racket', 'loads', 'solved', 'steps', 'takashi', 'grissom', 'hampered', 'nino', 'ticket', 'milk']\n"
     ]
    }
   ],
   "source": [
    "for word in visualize_words:\n",
    "    idx = tokenizer.vocab[word]\n",
    "    vec = center_vecs[idx]\n",
    "    indices = knn(vec, center_vecs, 10)\n",
    "    closed_words = [tokenizer.inverse_vocab[i] for i in indices]\n",
    "    print('Word: \"{}\" is close to {}'.format(word, closed_words))"
   ]
  },
  {
   "cell_type": "markdown",
   "id": "cea05615-3aa9-4b17-89ee-40ef2eff0bcf",
   "metadata": {},
   "source": [
    "## 5. Conclusion (5 Points)\n",
    "\n",
    "Provide an analysis for all the results"
   ]
  },
  {
   "cell_type": "markdown",
   "id": "efa38684-e334-4958-8fe9-ac98cfbc7133",
   "metadata": {},
   "source": [
    "1)- Negative sampling loss significantly brings down the computation cost and time.\n",
    "\n",
    "2)- Use of iterators is more memory efficient and helps with large datasets. \n",
    "\n",
    "2)-Similarity between terms in knn based algorithm is calculated using cosine function which is more accurate than euclidean distance for text data"
   ]
  },
  {
   "cell_type": "code",
   "execution_count": null,
   "id": "ff73934c",
   "metadata": {},
   "outputs": [],
   "source": []
  }
 ],
 "metadata": {
  "kernelspec": {
   "display_name": "gpu2",
   "language": "python",
   "name": "gpu2"
  },
  "language_info": {
   "codemirror_mode": {
    "name": "ipython",
    "version": 3
   },
   "file_extension": ".py",
   "mimetype": "text/x-python",
   "name": "python",
   "nbconvert_exporter": "python",
   "pygments_lexer": "ipython3",
   "version": "3.9.13"
  }
 },
 "nbformat": 4,
 "nbformat_minor": 5
}
